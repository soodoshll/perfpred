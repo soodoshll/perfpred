{
 "cells": [
  {
   "cell_type": "code",
   "execution_count": 1,
   "id": "49e43c8a",
   "metadata": {},
   "outputs": [
    {
     "name": "stderr",
     "output_type": "stream",
     "text": [
<<<<<<< HEAD
      "/home/su/perfpred/torch_env/lib/python3.8/site-packages/tqdm/auto.py:22: TqdmWarning: IProgress not found. Please update jupyter and ipywidgets. See https://ipywidgets.readthedocs.io/en/stable/user_install.html\n",
=======
      "/home/qidong/perfpred/torch_env/lib/python3.8/site-packages/tqdm/auto.py:22: TqdmWarning: IProgress not found. Please update jupyter and ipywidgets. See https://ipywidgets.readthedocs.io/en/stable/user_install.html\n",
>>>>>>> ad3ef8f5748c3951c7c3b56717864e537ab1a722
      "  from .autonotebook import tqdm as notebook_tqdm\n"
     ]
    }
   ],
   "source": [
    "import torch\n",
    "import pickle, time"
<<<<<<< HEAD
=======
   ]
  },
  {
   "cell_type": "code",
   "execution_count": 2,
   "id": "519c43fd",
   "metadata": {},
   "outputs": [
    {
     "ename": "ModuleNotFoundError",
     "evalue": "No module named 'dgl'",
     "output_type": "error",
     "traceback": [
      "\u001b[0;31m---------------------------------------------------------------------------\u001b[0m",
      "\u001b[0;31mModuleNotFoundError\u001b[0m                       Traceback (most recent call last)",
      "Cell \u001b[0;32mIn[2], line 1\u001b[0m\n\u001b[0;32m----> 1\u001b[0m \u001b[39mimport\u001b[39;00m \u001b[39mdgl\u001b[39;00m\n\u001b[1;32m      2\u001b[0m dgl\u001b[39m.\u001b[39m__version__\n",
      "\u001b[0;31mModuleNotFoundError\u001b[0m: No module named 'dgl'"
     ]
    }
   ],
   "source": [
    "import dgl\n",
    "dgl.__version__"
>>>>>>> ad3ef8f5748c3951c7c3b56717864e537ab1a722
   ]
  },
  {
   "cell_type": "code",
<<<<<<< HEAD
   "execution_count": 3,
   "id": "519c43fd",
   "metadata": {},
   "outputs": [
    {
     "data": {
      "text/plain": [
       "'0.10'"
      ]
     },
     "execution_count": 3,
     "metadata": {},
     "output_type": "execute_result"
=======
   "execution_count": 1,
   "id": "c35354da",
   "metadata": {},
   "outputs": [
    {
     "ename": "NameError",
     "evalue": "name 'time' is not defined",
     "output_type": "error",
     "traceback": [
      "\u001b[0;31m---------------------------------------------------------------------------\u001b[0m",
      "\u001b[0;31mNameError\u001b[0m                                 Traceback (most recent call last)",
      "Cell \u001b[0;32mIn[1], line 8\u001b[0m\n\u001b[1;32m      5\u001b[0m         raw_data \u001b[39m=\u001b[39m pickle\u001b[39m.\u001b[39mload(f)\n\u001b[1;32m      6\u001b[0m     \u001b[39mreturn\u001b[39;00m raw_data\n\u001b[0;32m----> 8\u001b[0m t0 \u001b[39m=\u001b[39m time\u001b[39m.\u001b[39mtime()\n\u001b[1;32m      9\u001b[0m raw_data \u001b[39m=\u001b[39m load_data_raw(dataset_file)\n\u001b[1;32m     10\u001b[0m dur \u001b[39m=\u001b[39m time\u001b[39m.\u001b[39mtime() \u001b[39m-\u001b[39m t0\n",
      "\u001b[0;31mNameError\u001b[0m: name 'time' is not defined"
     ]
>>>>>>> ad3ef8f5748c3951c7c3b56717864e537ab1a722
    }
   ],
   "source": [
    "dataset_file = 'nas_graphs.data'\n",
    "\n",
    "def load_data_raw(filename):\n",
    "    with open(filename, 'rb') as f:\n",
    "        raw_data = pickle.load(f)\n",
    "    return raw_data\n",
    "\n",
    "t0 = time.time()\n",
    "raw_data = load_data_raw(dataset_file)\n",
    "dur = time.time() - t0\n",
    "\n",
    "print(f\"dataset loaded, cost {dur} s\")"
   ]
  },
  {
   "cell_type": "code",
   "execution_count": 4,
   "id": "c35354da",
   "metadata": {},
   "outputs": [
    {
     "name": "stdout",
     "output_type": "stream",
     "text": [
      "dataset loaded, cost 289.8015818595886 s\n"
     ]
    }
   ],
   "source": [
    "dataset_file = 'nas_graphs.data'\n",
    "\n",
    "def load_data_raw(filename):\n",
    "    with open(filename, 'rb') as f:\n",
    "        raw_data = pickle.load(f)\n",
    "    return raw_data\n",
    "\n",
    "t0 = time.time()\n",
    "raw_data = load_data_raw(dataset_file)\n",
    "dur = time.time() - t0\n",
    "\n",
    "print(f\"dataset loaded, cost {dur} s\")"
   ]
  },
  {
   "cell_type": "code",
   "execution_count": 5,
   "id": "7db033c2",
   "metadata": {},
   "outputs": [],
   "source": [
    "# construct graphs\n",
    "graphs = []\n",
    "labels = []\n",
    "\n",
    "# transform type node_type into onehot\n",
    "n_ntypes = 0\n",
    "for node_type, _, _, _, _ in raw_data:\n",
    "#     print(node_type)\n",
    "    max_node_type = max(node_type)\n",
    "    n_ntypes = max(n_ntypes, max_node_type)\n",
    "n_ntypes += 1\n",
    "\n",
    "for node_type, node_data, edge_list, edge_data, mem in raw_data:\n",
    "    edge_list_tensor = torch.LongTensor(edge_list)\n",
    "    node_type_tensor = torch.nn.functional.one_hot(torch.tensor(node_type), n_ntypes)\n",
    "    ndata = torch.stack(node_data)\n",
    "#     print(ndata.shape, node_type_tensor.shape)\n",
    "    ndata = torch.concat([node_type_tensor, ndata], dim=1)\n",
    "#     print(ndata.shape)\n",
    "    edata = torch.tensor(edge_data)\n",
    "    g = dgl.graph((edge_list_tensor[:, 0], edge_list_tensor[:, 1]))\n",
    "    g.ndata['feat'] = ndata\n",
    "    g.edata['feat'] = edata.float()\n",
    "    graphs.append(g)\n",
    "    labels.append(mem)\n",
    "    \n",
    "labels = torch.tensor(labels)"
   ]
  },
  {
   "cell_type": "code",
   "execution_count": 6,
   "id": "88c15616",
   "metadata": {},
   "outputs": [],
   "source": [
    "# backup\n",
    "with open(\"nas_graphs_dgl.data\", \"wb\") as f:\n",
    "    pickle.dump([graphs, labels], f)"
   ]
  },
  {
   "cell_type": "code",
   "execution_count": 12,
   "id": "da50329b",
   "metadata": {},
   "outputs": [],
   "source": [
    "with open(\"nas_graphs_dgl.data\", \"rb\") as f:\n",
    "    graphs, labels = pickle.load(f)\n"
   ]
  },
  {
   "cell_type": "code",
   "execution_count": 7,
   "id": "74bf0abf",
   "metadata": {},
   "outputs": [
    {
     "data": {
      "text/plain": [
       "(array([  12.,  161.,  643., 1534., 1150., 2359., 1852., 1020.,  295.,\n",
       "          36.]),\n",
       " array([ 590.,  698.,  806.,  914., 1022., 1130., 1238., 1346., 1454.,\n",
       "        1562., 1670.]),\n",
       " <BarContainer object of 10 artists>)"
      ]
     },
     "execution_count": 7,
     "metadata": {},
     "output_type": "execute_result"
    },
    {
     "data": {
<<<<<<< HEAD
      "image/png": "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",
=======
      "image/png": "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",
>>>>>>> ad3ef8f5748c3951c7c3b56717864e537ab1a722
      "text/plain": [
       "<Figure size 640x480 with 1 Axes>"
      ]
     },
     "metadata": {},
     "output_type": "display_data"
    }
   ],
   "source": [
    "from matplotlib import pyplot as plt\n",
    "num_nodes = [g.num_nodes() for g in graphs]\n",
    "num_edges = [g.num_edges() for g in graphs]\n",
    "\n",
    "plt.hist(num_nodes)\n",
    "plt.hist(num_edges)"
   ]
  },
  {
   "cell_type": "code",
   "execution_count": 13,
   "id": "86570602",
   "metadata": {},
   "outputs": [],
   "source": [
    "# normalize\n",
    "num_ndata = graphs[0].ndata['feat'].shape[1]\n",
    "num_edata = graphs[0].edata['feat'].shape[1]\n",
    "\n",
    "max_ndata = []\n",
    "min_ndata = []\n",
    "max_edata = []\n",
    "min_edata = []\n",
    "\n",
    "for ndata_id in range(num_ndata):\n",
    "    max_v = graphs[0].ndata['feat'][0, ndata_id]\n",
    "    min_v = graphs[0].ndata['feat'][0, ndata_id]\n",
    "    for g in graphs:\n",
    "        max_v = max(max_v, torch.max(g.ndata['feat'][:, ndata_id]))\n",
    "        min_v = min(min_v, torch.min(g.ndata['feat'][:, ndata_id]))\n",
    "    if max_v != min_v:\n",
    "        for g in graphs:\n",
    "            g.ndata['feat'][:, ndata_id] = (g.ndata['feat'][:, ndata_id] - min_v)/(max_v - min_v)\n",
    "    max_ndata.append(max_v)\n",
    "    min_ndata.append(min_v)\n",
    "            \n",
    "for edata_id in range(num_edata):\n",
    "    max_v = graphs[0].edata['feat'][0, edata_id]\n",
    "    min_v = graphs[0].edata['feat'][0, edata_id]\n",
    "    for g in graphs:\n",
    "        max_v = max(max_v, torch.max(g.edata['feat'][:, edata_id]))\n",
    "        min_v = min(min_v, torch.min(g.edata['feat'][:, edata_id]))\n",
    "    if max_v != min_v:\n",
    "        for g in graphs:\n",
    "            g.edata['feat'][:, edata_id] = (g.edata['feat'][:, edata_id] - min_v)/(max_v - min_v)\n",
    "    max_edata.append(max_v)\n",
    "    min_edata.append(min_v)"
   ]
  },
  {
   "cell_type": "code",
   "execution_count": 3,
   "id": "278d1882",
   "metadata": {},
   "outputs": [],
   "source": [
    "from torch import nn\n",
    "from torch.nn import functional as F\n",
    "\n",
    "class ANEELayer(nn.Module):\n",
    "    def __init__(self, ndim, edim, nlayers):\n",
    "        super(ANEELayer, self).__init__()\n",
    "        self.ndim = ndim\n",
    "        self.edim = edim\n",
    "        self.nlayers = nlayers\n",
    "        \n",
    "        self.Wu = nn.Parameter(torch.randn((ndim, ndim)))\n",
    "        self.We = nn.Parameter(torch.randn((edim, edim)))\n",
    "        self.a = nn.Parameter(torch.randn(2 * ndim))\n",
    "        self.Wm = nn.Parameter(torch.randn(edim))\n",
    "        \n",
    "        self.W = nn.Parameter(torch.randn((ndim, )))\n",
    "    \n",
    "    def forward(self, g, ndata, edata):\n",
    "        for i in range(self.nlayers):\n",
    "            ndata = F.leaky_relu(ndata.matmul(self.Wu))\n",
    "            u, v = g.edges(form='uv')\n",
    "            uv_feat = torch.concat([ndata[u, :], ndata[v, :]], dim=-1)\n",
    "\n",
    "            new_edata = F.sigmoid(uv_feat.matmul(self.a).unsqueeze(1) * (edata.matmul(self.We)))\n",
    "            Wme = F.sigmoid(new_edata.matmul(self.Wm))\n",
    "            new_ndata = dgl.ops.u_mul_e_sum(g, ndata, Wme)\n",
    "            new_ndata = F.leaky_relu(new_ndata)\n",
    "            ndata = new_ndata\n",
    "            edata = new_edata\n",
    "        ndata_sum = ndata.sum(dim=0)\n",
    "        out = ndata_sum.matmul(self.W)\n",
    "        \n",
    "        return out"
   ]
  },
  {
   "cell_type": "code",
   "execution_count": 7,
   "id": "0de9c904",
   "metadata": {},
   "outputs": [
    {
     "name": "stderr",
     "output_type": "stream",
     "text": [
      "/home/su/perfpred/torch_env/lib/python3.8/site-packages/torch/nn/functional.py:1960: UserWarning: nn.functional.sigmoid is deprecated. Use torch.sigmoid instead.\n",
      "  warnings.warn(\"nn.functional.sigmoid is deprecated. Use torch.sigmoid instead.\")\n"
     ]
    },
    {
     "data": {
      "text/plain": [
       "tensor(-3627.4238, grad_fn=<DotBackward0>)"
      ]
     },
     "execution_count": 7,
     "metadata": {},
     "output_type": "execute_result"
    }
   ],
   "source": [
    "model = ANEELayer(44, 2, 2)\n",
    "model(graphs[0], graphs[0].ndata['feat'], graphs[0].edata['feat'])"
   ]
  },
  {
   "cell_type": "code",
   "execution_count": 2,
   "id": "e46b75df",
   "metadata": {},
   "outputs": [
    {
     "ename": "NameError",
     "evalue": "name 'torch' is not defined",
     "output_type": "error",
     "traceback": [
      "\u001b[0;31m---------------------------------------------------------------------------\u001b[0m",
      "\u001b[0;31mNameError\u001b[0m                                 Traceback (most recent call last)",
      "Cell \u001b[0;32mIn[2], line 6\u001b[0m\n\u001b[1;32m      2\u001b[0m \u001b[39mimport\u001b[39;00m \u001b[39mnumpy\u001b[39;00m \u001b[39mas\u001b[39;00m \u001b[39mnp\u001b[39;00m\n\u001b[1;32m      4\u001b[0m device\u001b[39m=\u001b[39m\u001b[39m'\u001b[39m\u001b[39mcuda\u001b[39m\u001b[39m'\u001b[39m\n\u001b[0;32m----> 6\u001b[0m model \u001b[39m=\u001b[39m ANEELayer(\u001b[39m44\u001b[39;49m, \u001b[39m2\u001b[39;49m, \u001b[39m2\u001b[39;49m)\n\u001b[1;32m      7\u001b[0m model\u001b[39m.\u001b[39mto(device)\n\u001b[1;32m      8\u001b[0m loss_fn \u001b[39m=\u001b[39m nn\u001b[39m.\u001b[39mMSELoss()\n",
      "Cell \u001b[0;32mIn[1], line 11\u001b[0m, in \u001b[0;36mANEELayer.__init__\u001b[0;34m(self, ndim, edim, nlayers)\u001b[0m\n\u001b[1;32m      8\u001b[0m \u001b[39mself\u001b[39m\u001b[39m.\u001b[39medim \u001b[39m=\u001b[39m edim\n\u001b[1;32m      9\u001b[0m \u001b[39mself\u001b[39m\u001b[39m.\u001b[39mnlayers \u001b[39m=\u001b[39m nlayers\n\u001b[0;32m---> 11\u001b[0m \u001b[39mself\u001b[39m\u001b[39m.\u001b[39mWu \u001b[39m=\u001b[39m nn\u001b[39m.\u001b[39mParameter(torch\u001b[39m.\u001b[39mrandn((ndim, ndim)))\n\u001b[1;32m     12\u001b[0m \u001b[39mself\u001b[39m\u001b[39m.\u001b[39mWe \u001b[39m=\u001b[39m nn\u001b[39m.\u001b[39mParameter(torch\u001b[39m.\u001b[39mrandn((edim, edim)))\n\u001b[1;32m     13\u001b[0m \u001b[39mself\u001b[39m\u001b[39m.\u001b[39ma \u001b[39m=\u001b[39m nn\u001b[39m.\u001b[39mParameter(torch\u001b[39m.\u001b[39mrandn(\u001b[39m2\u001b[39m \u001b[39m*\u001b[39m ndim))\n",
      "\u001b[0;31mNameError\u001b[0m: name 'torch' is not defined"
     ]
    }
   ],
   "source": [
    "from tqdm import tqdm\n",
    "import numpy as np\n",
    "\n",
    "device='cuda'\n",
    "\n",
    "model = ANEELayer(44, 2, 2)\n",
    "model.to(device)\n",
    "loss_fn = nn.MSELoss()\n",
    "optim = torch.optim.Adam(model.parameters(), lr=1e-4)\n",
    "\n",
    "\n",
    "graphs_gpu = [g.to(device) for g in graphs]\n"
   ]
  },
  {
   "cell_type": "markdown",
   "id": "c4d313ae",
   "metadata": {},
   "source": [
    "indices = np.random.permutation(range(len(graphs)))\n",
    "n_train = int(0.7 * len(graphs))\n",
    "train_indices = indices[:n_train]"
   ]
  },
  {
   "cell_type": "code",
   "execution_count": 9,
   "id": "7bcd27df",
   "metadata": {},
   "outputs": [],
   "source": [
    "np.savez(\"dataset_index.npz\", train_id=train_indices, test_id=indices[n_train:])"
   ]
  },
  {
   "cell_type": "code",
   "execution_count": 9,
   "id": "8388faa4",
   "metadata": {},
   "outputs": [],
   "source": [
    "indices = np.load(\"dataset_index.npz\")\n",
    "train_indices = indices['train_id']\n",
    "test_indices = indices['test_id']"
   ]
  },
  {
   "cell_type": "code",
   "execution_count": 11,
   "id": "f1847782",
   "metadata": {},
   "outputs": [
    {
     "data": {
      "text/plain": [
       "array([7451,  765, 4626, ...,  835, 3958, 8849])"
      ]
     },
     "execution_count": 11,
     "metadata": {},
     "output_type": "execute_result"
    }
   ],
   "source": [
    "indices[n_train:]"
   ]
  },
  {
   "cell_type": "code",
   "execution_count": 10,
   "id": "236362d9",
   "metadata": {},
   "outputs": [
    {
     "name": "stderr",
     "output_type": "stream",
     "text": [
      "100%|██████████| 6343/6343 [00:51<00:00, 122.76it/s]\n"
     ]
    },
    {
     "name": "stdout",
     "output_type": "stream",
     "text": [
      "0.63554746\n"
     ]
    },
    {
     "name": "stderr",
     "output_type": "stream",
     "text": [
      "100%|██████████| 6343/6343 [00:44<00:00, 143.91it/s]\n"
     ]
    },
    {
     "name": "stdout",
     "output_type": "stream",
     "text": [
      "0.29605097\n"
     ]
    },
    {
     "name": "stderr",
     "output_type": "stream",
     "text": [
      "100%|██████████| 6343/6343 [00:42<00:00, 147.63it/s]\n"
     ]
    },
    {
     "name": "stdout",
     "output_type": "stream",
     "text": [
      "0.16889216\n"
     ]
    },
    {
     "name": "stderr",
     "output_type": "stream",
     "text": [
      "100%|██████████| 6343/6343 [00:40<00:00, 156.19it/s]\n"
     ]
    },
    {
     "name": "stdout",
     "output_type": "stream",
     "text": [
      "0.12937088\n"
     ]
    },
    {
     "name": "stderr",
     "output_type": "stream",
     "text": [
      "100%|██████████| 6343/6343 [00:40<00:00, 155.05it/s]\n"
     ]
    },
    {
     "name": "stdout",
     "output_type": "stream",
     "text": [
      "0.109828\n"
     ]
    },
    {
     "name": "stderr",
     "output_type": "stream",
     "text": [
      "100%|██████████| 6343/6343 [00:40<00:00, 155.23it/s]\n"
     ]
    },
    {
     "name": "stdout",
     "output_type": "stream",
     "text": [
      "0.09721223\n"
     ]
    },
    {
     "name": "stderr",
     "output_type": "stream",
     "text": [
      "100%|██████████| 6343/6343 [00:40<00:00, 156.68it/s]\n"
     ]
    },
    {
     "name": "stdout",
     "output_type": "stream",
     "text": [
      "0.08966379\n"
     ]
    },
    {
     "name": "stderr",
     "output_type": "stream",
     "text": [
      "100%|██████████| 6343/6343 [00:40<00:00, 156.19it/s]\n"
     ]
    },
    {
     "name": "stdout",
     "output_type": "stream",
     "text": [
      "0.08414478\n"
     ]
    },
    {
     "name": "stderr",
     "output_type": "stream",
     "text": [
      "100%|██████████| 6343/6343 [00:40<00:00, 155.11it/s]\n"
     ]
    },
    {
     "name": "stdout",
     "output_type": "stream",
     "text": [
      "0.08038378\n"
     ]
    },
    {
     "name": "stderr",
     "output_type": "stream",
     "text": [
      "100%|██████████| 6343/6343 [00:41<00:00, 154.57it/s]\n"
     ]
    },
    {
     "name": "stdout",
     "output_type": "stream",
     "text": [
      "0.077186555\n"
     ]
    },
    {
     "name": "stderr",
     "output_type": "stream",
     "text": [
      "100%|██████████| 6343/6343 [00:40<00:00, 155.22it/s]\n"
     ]
    },
    {
     "name": "stdout",
     "output_type": "stream",
     "text": [
      "0.07605001\n"
     ]
    },
    {
     "name": "stderr",
     "output_type": "stream",
     "text": [
      "100%|██████████| 6343/6343 [00:40<00:00, 156.96it/s]\n"
     ]
    },
    {
     "name": "stdout",
     "output_type": "stream",
     "text": [
      "0.07439971\n"
     ]
    },
    {
     "name": "stderr",
     "output_type": "stream",
     "text": [
      "100%|██████████| 6343/6343 [00:40<00:00, 155.08it/s]\n"
     ]
    },
    {
     "name": "stdout",
     "output_type": "stream",
     "text": [
      "0.07341724\n"
     ]
    },
    {
     "name": "stderr",
     "output_type": "stream",
     "text": [
      "100%|██████████| 6343/6343 [00:40<00:00, 155.86it/s]\n"
     ]
    },
    {
     "name": "stdout",
     "output_type": "stream",
     "text": [
      "0.072712965\n"
     ]
    },
    {
     "name": "stderr",
     "output_type": "stream",
     "text": [
      "100%|██████████| 6343/6343 [00:41<00:00, 154.42it/s]\n"
     ]
    },
    {
     "name": "stdout",
     "output_type": "stream",
     "text": [
      "0.07182976\n"
     ]
    },
    {
     "name": "stderr",
     "output_type": "stream",
     "text": [
      "100%|██████████| 6343/6343 [00:40<00:00, 155.04it/s]\n"
     ]
    },
    {
     "name": "stdout",
     "output_type": "stream",
     "text": [
      "0.071007065\n"
     ]
    },
    {
     "name": "stderr",
     "output_type": "stream",
     "text": [
      "100%|██████████| 6343/6343 [00:40<00:00, 155.66it/s]\n"
     ]
    },
    {
     "name": "stdout",
     "output_type": "stream",
     "text": [
      "0.07083144\n"
     ]
    },
    {
     "name": "stderr",
     "output_type": "stream",
     "text": [
      "100%|██████████| 6343/6343 [00:40<00:00, 157.81it/s]\n"
     ]
    },
    {
     "name": "stdout",
     "output_type": "stream",
     "text": [
      "0.0701189\n"
     ]
    },
    {
     "name": "stderr",
     "output_type": "stream",
     "text": [
      "100%|██████████| 6343/6343 [00:40<00:00, 156.46it/s]\n"
     ]
    },
    {
     "name": "stdout",
     "output_type": "stream",
     "text": [
      "0.069280624\n"
     ]
    },
    {
     "name": "stderr",
     "output_type": "stream",
     "text": [
      "100%|██████████| 6343/6343 [00:40<00:00, 155.44it/s]\n"
     ]
    },
    {
     "name": "stdout",
     "output_type": "stream",
     "text": [
      "0.06868883\n"
     ]
    },
    {
     "name": "stderr",
     "output_type": "stream",
     "text": [
      "100%|██████████| 6343/6343 [00:40<00:00, 155.22it/s]\n"
     ]
    },
    {
     "name": "stdout",
     "output_type": "stream",
     "text": [
      "0.067668416\n"
     ]
    },
    {
     "name": "stderr",
     "output_type": "stream",
     "text": [
      "100%|██████████| 6343/6343 [00:41<00:00, 154.63it/s]\n"
     ]
    },
    {
     "name": "stdout",
     "output_type": "stream",
     "text": [
      "0.066855215\n"
     ]
    },
    {
     "name": "stderr",
     "output_type": "stream",
     "text": [
      "100%|██████████| 6343/6343 [00:40<00:00, 155.31it/s]\n"
     ]
    },
    {
     "name": "stdout",
     "output_type": "stream",
     "text": [
      "0.06597059\n"
     ]
    },
    {
     "name": "stderr",
     "output_type": "stream",
     "text": [
      "100%|██████████| 6343/6343 [00:40<00:00, 155.53it/s]\n"
     ]
    },
    {
     "name": "stdout",
     "output_type": "stream",
     "text": [
      "0.06515914\n"
     ]
    },
    {
     "name": "stderr",
     "output_type": "stream",
     "text": [
      "100%|██████████| 6343/6343 [00:40<00:00, 155.55it/s]\n"
     ]
    },
    {
     "name": "stdout",
     "output_type": "stream",
     "text": [
      "0.06386307\n"
     ]
    },
    {
     "name": "stderr",
     "output_type": "stream",
     "text": [
      "100%|██████████| 6343/6343 [00:40<00:00, 155.52it/s]\n"
     ]
    },
    {
     "name": "stdout",
     "output_type": "stream",
     "text": [
      "0.063043855\n"
     ]
    },
    {
     "name": "stderr",
     "output_type": "stream",
     "text": [
      "100%|██████████| 6343/6343 [00:40<00:00, 155.75it/s]\n"
     ]
    },
    {
     "name": "stdout",
     "output_type": "stream",
     "text": [
      "0.061753027\n"
     ]
    },
    {
     "name": "stderr",
     "output_type": "stream",
     "text": [
      "100%|██████████| 6343/6343 [00:40<00:00, 155.76it/s]\n"
     ]
    },
    {
     "name": "stdout",
     "output_type": "stream",
     "text": [
      "0.060642965\n"
     ]
    },
    {
     "name": "stderr",
     "output_type": "stream",
     "text": [
      "100%|██████████| 6343/6343 [00:40<00:00, 155.72it/s]\n"
     ]
    },
    {
     "name": "stdout",
     "output_type": "stream",
     "text": [
      "0.058885172\n"
     ]
    },
    {
     "name": "stderr",
     "output_type": "stream",
     "text": [
      "100%|██████████| 6343/6343 [00:40<00:00, 155.79it/s]\n"
     ]
    },
    {
     "name": "stdout",
     "output_type": "stream",
     "text": [
      "0.057793908\n"
     ]
    },
    {
     "name": "stderr",
     "output_type": "stream",
     "text": [
      "100%|██████████| 6343/6343 [00:41<00:00, 154.34it/s]\n"
     ]
    },
    {
     "name": "stdout",
     "output_type": "stream",
     "text": [
      "0.05680502\n"
     ]
    },
    {
     "name": "stderr",
     "output_type": "stream",
     "text": [
      "100%|██████████| 6343/6343 [00:41<00:00, 154.49it/s]\n"
     ]
    },
    {
     "name": "stdout",
     "output_type": "stream",
     "text": [
      "0.055272456\n"
     ]
    },
    {
     "name": "stderr",
     "output_type": "stream",
     "text": [
      "100%|██████████| 6343/6343 [00:40<00:00, 155.27it/s]\n"
     ]
    },
    {
     "name": "stdout",
     "output_type": "stream",
     "text": [
      "0.054543875\n"
     ]
    },
    {
     "name": "stderr",
     "output_type": "stream",
     "text": [
      "100%|██████████| 6343/6343 [00:40<00:00, 156.33it/s]\n"
     ]
    },
    {
     "name": "stdout",
     "output_type": "stream",
     "text": [
      "0.053266574\n"
     ]
    },
    {
     "name": "stderr",
     "output_type": "stream",
     "text": [
      "100%|██████████| 6343/6343 [00:41<00:00, 152.49it/s]\n"
     ]
    },
    {
     "name": "stdout",
     "output_type": "stream",
     "text": [
      "0.052218623\n"
     ]
    },
    {
     "name": "stderr",
     "output_type": "stream",
     "text": [
      "100%|██████████| 6343/6343 [00:40<00:00, 154.78it/s]\n"
     ]
    },
    {
     "name": "stdout",
     "output_type": "stream",
     "text": [
      "0.05105589\n"
     ]
    },
    {
     "name": "stderr",
     "output_type": "stream",
     "text": [
      "100%|██████████| 6343/6343 [00:40<00:00, 155.44it/s]\n"
     ]
    },
    {
     "name": "stdout",
     "output_type": "stream",
     "text": [
      "0.05036514\n"
     ]
    },
    {
     "name": "stderr",
     "output_type": "stream",
     "text": [
      "100%|██████████| 6343/6343 [00:40<00:00, 154.98it/s]\n"
     ]
    },
    {
     "name": "stdout",
     "output_type": "stream",
     "text": [
      "0.049543526\n"
     ]
    },
    {
     "name": "stderr",
     "output_type": "stream",
     "text": [
      "100%|██████████| 6343/6343 [00:41<00:00, 154.40it/s]\n"
     ]
    },
    {
     "name": "stdout",
     "output_type": "stream",
     "text": [
      "0.04891828\n"
     ]
    },
    {
     "name": "stderr",
     "output_type": "stream",
     "text": [
      "100%|██████████| 6343/6343 [00:41<00:00, 153.09it/s]\n"
     ]
    },
    {
     "name": "stdout",
     "output_type": "stream",
     "text": [
      "0.04810612\n"
     ]
    },
    {
     "name": "stderr",
     "output_type": "stream",
     "text": [
      "100%|██████████| 6343/6343 [00:40<00:00, 155.46it/s]\n"
     ]
    },
    {
     "name": "stdout",
     "output_type": "stream",
     "text": [
      "0.047634225\n"
     ]
    },
    {
     "name": "stderr",
     "output_type": "stream",
     "text": [
      "100%|██████████| 6343/6343 [00:40<00:00, 155.51it/s]\n"
     ]
    },
    {
     "name": "stdout",
     "output_type": "stream",
     "text": [
      "0.04695407\n"
     ]
    },
    {
     "name": "stderr",
     "output_type": "stream",
     "text": [
      "100%|██████████| 6343/6343 [00:41<00:00, 152.92it/s]\n"
     ]
    },
    {
     "name": "stdout",
     "output_type": "stream",
     "text": [
      "0.04652661\n"
     ]
    },
    {
     "name": "stderr",
     "output_type": "stream",
     "text": [
      "100%|██████████| 6343/6343 [00:41<00:00, 153.80it/s]\n"
     ]
    },
    {
     "name": "stdout",
     "output_type": "stream",
     "text": [
      "0.04574738\n"
     ]
    },
    {
     "name": "stderr",
     "output_type": "stream",
     "text": [
      "100%|██████████| 6343/6343 [00:41<00:00, 154.34it/s]\n"
     ]
    },
    {
     "name": "stdout",
     "output_type": "stream",
     "text": [
      "0.045446105\n"
     ]
    },
    {
     "name": "stderr",
     "output_type": "stream",
     "text": [
      "100%|██████████| 6343/6343 [00:41<00:00, 154.18it/s]\n"
     ]
    },
    {
     "name": "stdout",
     "output_type": "stream",
     "text": [
      "0.044803653\n"
     ]
    },
    {
     "name": "stderr",
     "output_type": "stream",
     "text": [
      "100%|██████████| 6343/6343 [00:40<00:00, 155.38it/s]\n"
     ]
    },
    {
     "name": "stdout",
     "output_type": "stream",
     "text": [
      "0.044351675\n"
     ]
    },
    {
     "name": "stderr",
     "output_type": "stream",
     "text": [
      "100%|██████████| 6343/6343 [00:40<00:00, 156.46it/s]\n"
     ]
    },
    {
     "name": "stdout",
     "output_type": "stream",
     "text": [
      "0.043910567\n"
     ]
    },
    {
     "name": "stderr",
     "output_type": "stream",
     "text": [
      "100%|██████████| 6343/6343 [00:41<00:00, 154.50it/s]\n"
     ]
    },
    {
     "name": "stdout",
     "output_type": "stream",
     "text": [
      "0.04357405\n"
     ]
    },
    {
     "name": "stderr",
     "output_type": "stream",
     "text": [
      "100%|██████████| 6343/6343 [00:40<00:00, 155.77it/s]\n"
     ]
    },
    {
     "name": "stdout",
     "output_type": "stream",
     "text": [
      "0.043089636\n"
     ]
    },
    {
     "name": "stderr",
     "output_type": "stream",
     "text": [
      "100%|██████████| 6343/6343 [00:40<00:00, 155.52it/s]\n"
     ]
    },
    {
     "name": "stdout",
     "output_type": "stream",
     "text": [
      "0.04271312\n"
     ]
    },
    {
     "name": "stderr",
     "output_type": "stream",
     "text": [
      "100%|██████████| 6343/6343 [00:41<00:00, 153.96it/s]\n"
     ]
    },
    {
     "name": "stdout",
     "output_type": "stream",
     "text": [
      "0.042015597\n"
     ]
    },
    {
     "name": "stderr",
     "output_type": "stream",
     "text": [
      "100%|██████████| 6343/6343 [00:41<00:00, 154.63it/s]\n"
     ]
    },
    {
     "name": "stdout",
     "output_type": "stream",
     "text": [
      "0.04163991\n"
     ]
    },
    {
     "name": "stderr",
     "output_type": "stream",
     "text": [
      "100%|██████████| 6343/6343 [00:40<00:00, 154.95it/s]\n"
     ]
    },
    {
     "name": "stdout",
     "output_type": "stream",
     "text": [
      "0.041404102\n"
     ]
    },
    {
     "name": "stderr",
     "output_type": "stream",
     "text": [
      "100%|██████████| 6343/6343 [00:40<00:00, 155.62it/s]\n"
     ]
    },
    {
     "name": "stdout",
     "output_type": "stream",
     "text": [
      "0.040797196\n"
     ]
    },
    {
     "name": "stderr",
     "output_type": "stream",
     "text": [
      "100%|██████████| 6343/6343 [00:40<00:00, 156.61it/s]\n"
     ]
    },
    {
     "name": "stdout",
     "output_type": "stream",
     "text": [
      "0.040356338\n"
     ]
    },
    {
     "name": "stderr",
     "output_type": "stream",
     "text": [
      "100%|██████████| 6343/6343 [00:40<00:00, 156.99it/s]\n"
     ]
    },
    {
     "name": "stdout",
     "output_type": "stream",
     "text": [
      "0.04025537\n"
     ]
    },
    {
     "name": "stderr",
     "output_type": "stream",
     "text": [
      "100%|██████████| 6343/6343 [00:40<00:00, 157.25it/s]\n"
     ]
    },
    {
     "name": "stdout",
     "output_type": "stream",
     "text": [
      "0.03976658\n"
     ]
    },
    {
     "name": "stderr",
     "output_type": "stream",
     "text": [
      "100%|██████████| 6343/6343 [00:40<00:00, 155.81it/s]\n"
     ]
    },
    {
     "name": "stdout",
     "output_type": "stream",
     "text": [
      "0.039364953\n"
     ]
    },
    {
     "name": "stderr",
     "output_type": "stream",
     "text": [
      "100%|██████████| 6343/6343 [00:40<00:00, 155.06it/s]\n"
     ]
    },
    {
     "name": "stdout",
     "output_type": "stream",
     "text": [
      "0.03916225\n"
     ]
    },
    {
     "name": "stderr",
     "output_type": "stream",
     "text": [
      "100%|██████████| 6343/6343 [00:41<00:00, 154.59it/s]\n"
     ]
    },
    {
     "name": "stdout",
     "output_type": "stream",
     "text": [
      "0.038693253\n"
     ]
    },
    {
     "name": "stderr",
     "output_type": "stream",
     "text": [
      "100%|██████████| 6343/6343 [00:41<00:00, 154.03it/s]\n"
     ]
    },
    {
     "name": "stdout",
     "output_type": "stream",
     "text": [
      "0.038546246\n"
     ]
    },
    {
     "name": "stderr",
     "output_type": "stream",
     "text": [
      "100%|██████████| 6343/6343 [00:40<00:00, 154.71it/s]\n"
     ]
    },
    {
     "name": "stdout",
     "output_type": "stream",
     "text": [
      "0.038077056\n"
     ]
    },
    {
     "name": "stderr",
     "output_type": "stream",
     "text": [
      "100%|██████████| 6343/6343 [00:41<00:00, 153.95it/s]\n"
     ]
    },
    {
     "name": "stdout",
     "output_type": "stream",
     "text": [
      "0.037667006\n"
     ]
    },
    {
     "name": "stderr",
     "output_type": "stream",
     "text": [
      "100%|██████████| 6343/6343 [00:40<00:00, 154.81it/s]\n"
     ]
    },
    {
     "name": "stdout",
     "output_type": "stream",
     "text": [
      "0.037313964\n"
     ]
    },
    {
     "name": "stderr",
     "output_type": "stream",
     "text": [
      "100%|██████████| 6343/6343 [00:40<00:00, 155.06it/s]\n"
     ]
    },
    {
     "name": "stdout",
     "output_type": "stream",
     "text": [
      "0.036997903\n"
     ]
    },
    {
     "name": "stderr",
     "output_type": "stream",
     "text": [
      "100%|██████████| 6343/6343 [00:40<00:00, 156.65it/s]\n"
     ]
    },
    {
     "name": "stdout",
     "output_type": "stream",
     "text": [
      "0.036949642\n"
     ]
    },
    {
     "name": "stderr",
     "output_type": "stream",
     "text": [
      "100%|██████████| 6343/6343 [00:40<00:00, 156.06it/s]\n"
     ]
    },
    {
     "name": "stdout",
     "output_type": "stream",
     "text": [
      "0.03657948\n"
     ]
    },
    {
     "name": "stderr",
     "output_type": "stream",
     "text": [
      "100%|██████████| 6343/6343 [00:40<00:00, 155.18it/s]\n"
     ]
    },
    {
     "name": "stdout",
     "output_type": "stream",
     "text": [
      "0.036255334\n"
     ]
    },
    {
     "name": "stderr",
     "output_type": "stream",
     "text": [
      "100%|██████████| 6343/6343 [00:40<00:00, 155.39it/s]\n"
     ]
    },
    {
     "name": "stdout",
     "output_type": "stream",
     "text": [
      "0.036083374\n"
     ]
    },
    {
     "name": "stderr",
     "output_type": "stream",
     "text": [
      "100%|██████████| 6343/6343 [00:40<00:00, 155.19it/s]\n"
     ]
    },
    {
     "name": "stdout",
     "output_type": "stream",
     "text": [
      "0.03591444\n"
     ]
    },
    {
     "name": "stderr",
     "output_type": "stream",
     "text": [
      "100%|██████████| 6343/6343 [00:41<00:00, 154.63it/s]\n"
     ]
    },
    {
     "name": "stdout",
     "output_type": "stream",
     "text": [
      "0.035599865\n"
     ]
    },
    {
     "name": "stderr",
     "output_type": "stream",
     "text": [
      "100%|██████████| 6343/6343 [00:40<00:00, 155.60it/s]\n"
     ]
    },
    {
     "name": "stdout",
     "output_type": "stream",
     "text": [
      "0.03521371\n"
     ]
    },
    {
     "name": "stderr",
     "output_type": "stream",
     "text": [
      "100%|██████████| 6343/6343 [00:40<00:00, 155.10it/s]\n"
     ]
    },
    {
     "name": "stdout",
     "output_type": "stream",
     "text": [
      "0.035236523\n"
     ]
    },
    {
     "name": "stderr",
     "output_type": "stream",
     "text": [
      "100%|██████████| 6343/6343 [00:41<00:00, 154.55it/s]\n"
     ]
    },
    {
     "name": "stdout",
     "output_type": "stream",
     "text": [
      "0.03468699\n"
     ]
    },
    {
     "name": "stderr",
     "output_type": "stream",
     "text": [
      "100%|██████████| 6343/6343 [00:40<00:00, 155.24it/s]\n"
     ]
    },
    {
     "name": "stdout",
     "output_type": "stream",
     "text": [
      "0.034378998\n"
     ]
    },
    {
     "name": "stderr",
     "output_type": "stream",
     "text": [
      "100%|██████████| 6343/6343 [00:40<00:00, 155.49it/s]\n"
     ]
    },
    {
     "name": "stdout",
     "output_type": "stream",
     "text": [
      "0.034028184\n"
     ]
    },
    {
     "name": "stderr",
     "output_type": "stream",
     "text": [
      "100%|██████████| 6343/6343 [00:40<00:00, 156.52it/s]\n"
     ]
    },
    {
     "name": "stdout",
     "output_type": "stream",
     "text": [
      "0.03364528\n"
     ]
    },
    {
     "name": "stderr",
     "output_type": "stream",
     "text": [
      "100%|██████████| 6343/6343 [00:40<00:00, 155.79it/s]\n"
     ]
    },
    {
     "name": "stdout",
     "output_type": "stream",
     "text": [
      "0.033428185\n"
     ]
    },
    {
     "name": "stderr",
     "output_type": "stream",
     "text": [
      "100%|██████████| 6343/6343 [00:41<00:00, 153.75it/s]"
     ]
    },
    {
     "name": "stdout",
     "output_type": "stream",
     "text": [
      "0.033243112\n"
     ]
    },
    {
     "name": "stderr",
     "output_type": "stream",
     "text": [
      "\n"
     ]
    }
   ],
   "source": [
    "for epoch in range(80):\n",
    "    errs = []\n",
    "    idx = np.random.permutation(range(len(train_indices))) \n",
    "    for i in tqdm(idx):\n",
    "        g = graphs_gpu[train_indices[i]]\n",
    "        label = labels[train_indices[i]].to(device)\n",
    "        optim.zero_grad()\n",
    "        out = model(g, g.ndata['feat'], g.edata['feat'])\n",
    "        err = torch.abs(out - label) / label\n",
    "        errs.append(err.cpu().detach().numpy())\n",
    "        loss = loss_fn(out, label)\n",
    "        loss.backward()\n",
    "        optim.step()\n",
    "    #     print(loss)\n",
    "    print(np.mean(errs))"
   ]
  },
  {
   "cell_type": "code",
   "execution_count": 15,
   "id": "eb551018",
   "metadata": {},
   "outputs": [
    {
     "name": "stderr",
     "output_type": "stream",
     "text": [
      "100%|██████████| 2719/2719 [00:03<00:00, 694.53it/s]"
     ]
    },
    {
     "name": "stdout",
     "output_type": "stream",
     "text": [
      "0.03256110330094828\n"
     ]
    },
    {
     "name": "stderr",
     "output_type": "stream",
     "text": [
      "\n"
     ]
    }
   ],
   "source": [
    "errs = []\n",
    "for i in tqdm(test_indices):\n",
    "    g = graphs_gpu[i]\n",
    "    label = labels[i].to(device)\n",
    "    with torch.no_grad():\n",
    "        out = model(g, g.ndata['feat'], g.edata['feat'])\n",
    "    err = torch.abs(out - label) / (label)\n",
    "    errs.append(err.cpu().detach().item())\n",
    "print(np.mean(errs))"
   ]
  },
  {
   "cell_type": "code",
   "execution_count": 14,
   "id": "066c56ca",
   "metadata": {},
   "outputs": [],
   "source": [
    "torch.save((model, max_ndata, min_ndata, max_edata, min_edata), \"gnn_model.th\")"
   ]
  },
  {
   "cell_type": "code",
   "execution_count": 4,
   "id": "3a01faa5",
   "metadata": {},
   "outputs": [],
   "source": [
    "from trace import Graph\n",
    "import torch, dgl\n",
    "import torchvision\n",
    "import gc\n",
    "device = 'cuda'"
   ]
  },
  {
   "cell_type": "code",
   "execution_count": 5,
   "id": "3b9df1a8",
   "metadata": {},
   "outputs": [],
   "source": [
    "model, max_ndata, min_ndata, max_edata, min_edata = torch.load(\"gnn_model.th\")"
   ]
  },
  {
   "cell_type": "code",
   "execution_count": 6,
   "id": "3528724c",
   "metadata": {},
   "outputs": [],
   "source": [
    "def test(example, batch_size):\n",
    "    example.to(device)\n",
    "    inputs = torch.rand((batch_size, 3, 224, 224), device=device)\n",
    "    out = example(inputs)\n",
    "    raw_g = Graph(out)\n",
    "    node_type, node_data, edge_list, edge_data = raw_g.encode()\n",
    "    edge_list_tensor = torch.LongTensor(edge_list)\n",
    "    node_type_tensor = torch.nn.functional.one_hot(torch.tensor(node_type), 24)\n",
    "    ndata = torch.stack(node_data)\n",
    "    ndata = torch.concat([node_type_tensor, ndata], dim=1)\n",
    "    edata = torch.tensor(edge_data)\n",
    "\n",
    "    g = dgl.graph((edge_list_tensor[:, 0], edge_list_tensor[:, 1]))\n",
    "\n",
    "    g.ndata['feat'] = ndata\n",
    "    g.edata['feat'] = edata.float()\n",
    "\n",
    "    for i in range(len(max_ndata)):\n",
    "        if max_ndata[i] != min_ndata[i]:\n",
    "            g.ndata['feat'][:, i] = (g.ndata['feat'][:, i] - min_ndata[i]) / (max_ndata[i] - min_ndata[i])\n",
    "            \n",
    "    for i in range(len(max_edata)):\n",
    "        if max_edata[i] != min_edata[i]:\n",
    "            g.edata['feat'][:, i] = (g.edata['feat'][:, i] - min_edata[i]) / (max_edata[i] - min_edata[i])\n",
    "\n",
    "    g = g.to(device)\n",
    "    with torch.no_grad():\n",
    "        ret = model(g, g.ndata['feat'].cuda(), g.edata['feat'].cuda())\n",
    "    return ret.cpu().numpy()"
   ]
  },
  {
   "cell_type": "code",
   "execution_count": 9,
   "id": "ba999add",
   "metadata": {},
   "outputs": [
    {
     "name": "stderr",
     "output_type": "stream",
     "text": [
      "/home/su/perfpred/dnnperf/trace.py:566: UserWarning: To copy construct from a tensor, it is recommended to use sourceTensor.clone().detach() or sourceTensor.clone().detach().requires_grad_(True), rather than torch.tensor(sourceTensor).\n",
      "  h_feat = torch.tensor(node.hyperparameter_info())\n",
      "/home/su/perfpred/torch_env/lib/python3.8/site-packages/torch/nn/functional.py:1960: UserWarning: nn.functional.sigmoid is deprecated. Use torch.sigmoid instead.\n",
      "  warnings.warn(\"nn.functional.sigmoid is deprecated. Use torch.sigmoid instead.\")\n"
     ]
    },
    {
     "name": "stdout",
     "output_type": "stream",
     "text": [
      "#node: 137 #edge: 293\n",
      "resnet50 8 1664.4763\n",
      "#node: 137 #edge: 293\n",
      "resnet50 16 1853.0332\n",
      "#node: 137 #edge: 293\n",
      "resnet50 32 2214.9097\n"
     ]
    }
   ],
   "source": [
    "for bs in [8, 16, 32]:\n",
    "    gc.collect()\n",
    "    print('resnet18', bs, test(torchvision.models.resnet18(), bs))"
   ]
  },
  {
   "cell_type": "code",
   "execution_count": 73,
   "id": "704a5398",
   "metadata": {},
   "outputs": [],
   "source": [
    "# normalize\n",
    "#max_ndata = []\n",
    "#min_ndata = []\n",
    "#max_edata = []\n",
    "#min_edata = []\n",
    "\n"
   ]
  },
  {
   "cell_type": "code",
   "execution_count": 74,
   "id": "21f28bf7",
   "metadata": {},
   "outputs": [
    {
     "data": {
      "text/plain": [
       "tensor(-288.9028, device='cuda:0', grad_fn=<DotBackward0>)"
      ]
     },
     "execution_count": 74,
     "metadata": {},
     "output_type": "execute_result"
    }
   ],
   "source": []
  },
  {
   "cell_type": "code",
   "execution_count": 110,
   "id": "26125c7b",
   "metadata": {},
   "outputs": [
    {
     "data": {
      "text/plain": [
       "1010"
      ]
     },
     "execution_count": 110,
     "metadata": {},
     "output_type": "execute_result"
    }
   ],
   "source": [
    "graphs[0].num_edges()"
   ]
  },
  {
   "cell_type": "code",
   "execution_count": null,
   "id": "67f06f98",
   "metadata": {},
   "outputs": [],
   "source": []
  }
 ],
 "metadata": {
  "kernelspec": {
   "display_name": "Python 3.8.10 ('torch_env': venv)",
   "language": "python",
   "name": "python3"
  },
  "language_info": {
   "codemirror_mode": {
    "name": "ipython",
    "version": 3
   },
   "file_extension": ".py",
   "mimetype": "text/x-python",
   "name": "python",
   "nbconvert_exporter": "python",
   "pygments_lexer": "ipython3",
   "version": "3.8.10"
  },
  "vscode": {
   "interpreter": {
<<<<<<< HEAD
    "hash": "1774c918756400e8041bc413a0247d00b9a16051c6d82f8b24dbca5df37493ff"
=======
    "hash": "21b3263d2991743e4a43220dd74aeccbe181f5d910cbd8cafed6ccc636e1c9d8"
>>>>>>> ad3ef8f5748c3951c7c3b56717864e537ab1a722
   }
  }
 },
 "nbformat": 4,
 "nbformat_minor": 5
}
