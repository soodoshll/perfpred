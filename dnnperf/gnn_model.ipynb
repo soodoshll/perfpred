{
 "cells": [
  {
   "cell_type": "code",
   "execution_count": 1,
   "id": "49e43c8a",
   "metadata": {},
   "outputs": [
    {
     "name": "stderr",
     "output_type": "stream",
     "text": [
      "/home/qidong/perfpred/torch_env/lib/python3.8/site-packages/tqdm/auto.py:22: TqdmWarning: IProgress not found. Please update jupyter and ipywidgets. See https://ipywidgets.readthedocs.io/en/stable/user_install.html\n",
      "  from .autonotebook import tqdm as notebook_tqdm\n"
     ]
    }
   ],
   "source": [
    "import torch\n",
    "import pickle, time"
   ]
  },
  {
   "cell_type": "code",
   "execution_count": 2,
   "id": "519c43fd",
   "metadata": {},
   "outputs": [
    {
     "ename": "ModuleNotFoundError",
     "evalue": "No module named 'dgl'",
     "output_type": "error",
     "traceback": [
      "\u001b[0;31m---------------------------------------------------------------------------\u001b[0m",
      "\u001b[0;31mModuleNotFoundError\u001b[0m                       Traceback (most recent call last)",
      "Cell \u001b[0;32mIn[2], line 1\u001b[0m\n\u001b[0;32m----> 1\u001b[0m \u001b[39mimport\u001b[39;00m \u001b[39mdgl\u001b[39;00m\n\u001b[1;32m      2\u001b[0m dgl\u001b[39m.\u001b[39m__version__\n",
      "\u001b[0;31mModuleNotFoundError\u001b[0m: No module named 'dgl'"
     ]
    }
   ],
   "source": [
    "import dgl\n",
    "dgl.__version__"
   ]
  },
  {
   "cell_type": "code",
   "execution_count": 1,
   "id": "c35354da",
   "metadata": {},
   "outputs": [
    {
     "ename": "NameError",
     "evalue": "name 'time' is not defined",
     "output_type": "error",
     "traceback": [
      "\u001b[0;31m---------------------------------------------------------------------------\u001b[0m",
      "\u001b[0;31mNameError\u001b[0m                                 Traceback (most recent call last)",
      "Cell \u001b[0;32mIn[1], line 8\u001b[0m\n\u001b[1;32m      5\u001b[0m         raw_data \u001b[39m=\u001b[39m pickle\u001b[39m.\u001b[39mload(f)\n\u001b[1;32m      6\u001b[0m     \u001b[39mreturn\u001b[39;00m raw_data\n\u001b[0;32m----> 8\u001b[0m t0 \u001b[39m=\u001b[39m time\u001b[39m.\u001b[39mtime()\n\u001b[1;32m      9\u001b[0m raw_data \u001b[39m=\u001b[39m load_data_raw(dataset_file)\n\u001b[1;32m     10\u001b[0m dur \u001b[39m=\u001b[39m time\u001b[39m.\u001b[39mtime() \u001b[39m-\u001b[39m t0\n",
      "\u001b[0;31mNameError\u001b[0m: name 'time' is not defined"
     ]
    }
   ],
   "source": [
    "dataset_file = 'nas_graphs.data'\n",
    "\n",
    "def load_data_raw(filename):\n",
    "    with open(filename, 'rb') as f:\n",
    "        raw_data = pickle.load(f)\n",
    "    return raw_data\n",
    "\n",
    "t0 = time.time()\n",
    "raw_data = load_data_raw(dataset_file)\n",
    "dur = time.time() - t0\n",
    "\n",
    "print(f\"dataset loaded, cost {dur} s\")"
   ]
  },
  {
   "cell_type": "code",
   "execution_count": 23,
   "id": "7db033c2",
   "metadata": {},
   "outputs": [
    {
     "ename": "NameError",
     "evalue": "name 'raw_data' is not defined",
     "output_type": "error",
     "traceback": [
      "\u001b[0;31m---------------------------------------------------------------------------\u001b[0m",
      "\u001b[0;31mNameError\u001b[0m                                 Traceback (most recent call last)",
      "Cell \u001b[0;32mIn [23], line 7\u001b[0m\n\u001b[1;32m      5\u001b[0m \u001b[38;5;66;03m# transform type node_type into onehot\u001b[39;00m\n\u001b[1;32m      6\u001b[0m n_ntypes \u001b[38;5;241m=\u001b[39m \u001b[38;5;241m0\u001b[39m\n\u001b[0;32m----> 7\u001b[0m \u001b[38;5;28;01mfor\u001b[39;00m node_type, _, _, _, _ \u001b[38;5;129;01min\u001b[39;00m \u001b[43mraw_data\u001b[49m:\n\u001b[1;32m      8\u001b[0m \u001b[38;5;66;03m#     print(node_type)\u001b[39;00m\n\u001b[1;32m      9\u001b[0m     max_node_type \u001b[38;5;241m=\u001b[39m \u001b[38;5;28mmax\u001b[39m(node_type)\n\u001b[1;32m     10\u001b[0m     n_ntypes \u001b[38;5;241m=\u001b[39m \u001b[38;5;28mmax\u001b[39m(n_ntypes, max_node_type)\n",
      "\u001b[0;31mNameError\u001b[0m: name 'raw_data' is not defined"
     ]
    }
   ],
   "source": [
    "# construct graphs\n",
    "graphs = []\n",
    "labels = []\n",
    "\n",
    "# transform type node_type into onehot\n",
    "n_ntypes = 0\n",
    "for node_type, _, _, _, _ in raw_data:\n",
    "#     print(node_type)\n",
    "    max_node_type = max(node_type)\n",
    "    n_ntypes = max(n_ntypes, max_node_type)\n",
    "n_ntypes += 1\n",
    "\n",
    "for node_type, node_data, edge_list, edge_data, mem in raw_data:\n",
    "    edge_list_tensor = torch.LongTensor(edge_list)\n",
    "    node_type_tensor = torch.nn.functional.one_hot(torch.tensor(node_type), n_ntypes)\n",
    "    ndata = torch.stack(node_data)\n",
    "#     print(ndata.shape, node_type_tensor.shape)\n",
    "    ndata = torch.concat([node_type_tensor, ndata], dim=1)\n",
    "#     print(ndata.shape)\n",
    "    edata = torch.tensor(edge_data)\n",
    "    g = dgl.graph((edge_list_tensor[:, 0], edge_list_tensor[:, 1]))\n",
    "    g.ndata['feat'] = ndata\n",
    "    g.edata['feat'] = edata.float()\n",
    "    graphs.append(g)\n",
    "    labels.append(mem)\n",
    "    \n",
    "labels = torch.tensor(labels)"
   ]
  },
  {
   "cell_type": "code",
   "execution_count": 157,
   "id": "88c15616",
   "metadata": {},
   "outputs": [],
   "source": [
    "# backup\n",
    "with open(\"nas_graphs_dgl.data\", \"wb\") as f:\n",
    "    pickle.dump([graphs, labels], f)"
   ]
  },
  {
   "cell_type": "code",
   "execution_count": 24,
   "id": "da50329b",
   "metadata": {},
   "outputs": [],
   "source": [
    "with open(\"nas_graphs_dgl.data\", \"rb\") as f:\n",
    "    graphs, labels = pickle.load(f)\n"
   ]
  },
  {
   "cell_type": "code",
   "execution_count": 90,
   "id": "ad5ff859",
   "metadata": {},
   "outputs": [
    {
     "data": {
      "text/plain": [
       "{'feat': tensor([[      1, 1048576],\n",
       "        [      0, 1048576],\n",
       "        [      1, 1048576],\n",
       "        ...,\n",
       "        [      0,   16384],\n",
       "        [      0,  262144],\n",
       "        [      0,       0]])}"
      ]
     },
     "execution_count": 90,
     "metadata": {},
     "output_type": "execute_result"
    }
   ],
   "source": []
  },
  {
   "cell_type": "code",
   "execution_count": 40,
   "id": "74bf0abf",
   "metadata": {},
   "outputs": [
    {
     "data": {
      "text/plain": [
       "(array([ 422.,  542.,  477., 1382.,  813.,  669., 1272.,  320.,  297.,\n",
       "         209.]),\n",
       " array([ 770.,  848.,  926., 1004., 1082., 1160., 1238., 1316., 1394.,\n",
       "        1472., 1550.]),\n",
       " <BarContainer object of 10 artists>)"
      ]
     },
     "execution_count": 40,
     "metadata": {},
     "output_type": "execute_result"
    },
    {
     "data": {
      "image/png": "[encoded data removed]",
      "text/plain": [
       "<Figure size 640x480 with 1 Axes>"
      ]
     },
     "metadata": {},
     "output_type": "display_data"
    }
   ],
   "source": [
    "from matplotlib import pyplot as plt\n",
    "num_nodes = [g.num_nodes() for g in graphs]\n",
    "num_edges = [g.num_edges() for g in graphs]\n",
    "\n",
    "plt.hist(num_nodes)\n",
    "plt.hist(num_edges)"
   ]
  },
  {
   "cell_type": "code",
   "execution_count": 25,
   "id": "86570602",
   "metadata": {},
   "outputs": [],
   "source": [
    "# normalize\n",
    "num_ndata = graphs[0].ndata['feat'].shape[1]\n",
    "num_edata = graphs[0].edata['feat'].shape[1]\n",
    "\n",
    "max_ndata = []\n",
    "min_ndata = []\n",
    "max_edata = []\n",
    "min_edata = []\n",
    "\n",
    "for ndata_id in range(num_ndata):\n",
    "    max_v = graphs[0].ndata['feat'][0, ndata_id]\n",
    "    min_v = graphs[0].ndata['feat'][0, ndata_id]\n",
    "    for g in graphs:\n",
    "        max_v = max(max_v, torch.max(g.ndata['feat'][:, ndata_id]))\n",
    "        min_v = min(min_v, torch.min(g.ndata['feat'][:, ndata_id]))\n",
    "    if max_v != min_v:\n",
    "        for g in graphs:\n",
    "            g.ndata['feat'][:, ndata_id] = (g.ndata['feat'][:, ndata_id] - min_v)/(max_v - min_v)\n",
    "    max_ndata.append(max_v)\n",
    "    min_ndata.append(min_v)\n",
    "            \n",
    "for edata_id in range(num_edata):\n",
    "    max_v = graphs[0].edata['feat'][0, edata_id]\n",
    "    min_v = graphs[0].edata['feat'][0, edata_id]\n",
    "    for g in graphs:\n",
    "        max_v = max(max_v, torch.max(g.edata['feat'][:, edata_id]))\n",
    "        min_v = min(min_v, torch.min(g.edata['feat'][:, edata_id]))\n",
    "    if max_v != min_v:\n",
    "        for g in graphs:\n",
    "            g.edata['feat'][:, edata_id] = (g.edata['feat'][:, edata_id] - min_v)/(max_v - min_v)\n",
    "    max_edata.append(max_v)\n",
    "    min_edata.append(min_v)"
   ]
  },
  {
   "cell_type": "code",
   "execution_count": 26,
   "id": "278d1882",
   "metadata": {},
   "outputs": [],
   "source": [
    "from torch import nn\n",
    "from torch.nn import functional as F\n",
    "\n",
    "class ANEELayer(nn.Module):\n",
    "    def __init__(self, ndim, edim, nlayers):\n",
    "        super(ANEELayer, self).__init__()\n",
    "        self.ndim = ndim\n",
    "        self.edim = edim\n",
    "        self.nlayers = nlayers\n",
    "        \n",
    "        self.Wu = nn.Parameter(torch.randn((ndim, ndim)))\n",
    "        self.We = nn.Parameter(torch.randn((edim, edim)))\n",
    "        self.a = nn.Parameter(torch.randn(2 * ndim))\n",
    "        self.Wm = nn.Parameter(torch.randn(edim))\n",
    "        \n",
    "        self.W = nn.Parameter(torch.randn((ndim, )))\n",
    "    \n",
    "    def forward(self, g, ndata, edata):\n",
    "        for i in range(self.nlayers):\n",
    "            ndata = F.leaky_relu(ndata.matmul(self.Wu))\n",
    "            u, v = g.edges(form='uv')\n",
    "            uv_feat = torch.concat([ndata[u, :], ndata[v, :]], dim=-1)\n",
    "    #         print(uv_feat.shape)\n",
    "    #         print(edata.matmul(self.We).shape)\n",
    "            new_edata = F.sigmoid(uv_feat.matmul(self.a).unsqueeze(1) * (edata.matmul(self.We)))\n",
    "    #         Wme = F.softmax(new_edata.matmul(self.Wm))\n",
    "            Wme = F.sigmoid(new_edata.matmul(self.Wm))\n",
    "            new_ndata = dgl.ops.u_mul_e_sum(g, ndata, Wme)\n",
    "            new_ndata = F.leaky_relu(new_ndata)\n",
    "#             print(new_ndata.shape)\n",
    "    #         print(new_edata.shape)\n",
    "            ndata = new_ndata\n",
    "            edata = new_edata\n",
    "        ndata_sum = ndata.sum(dim=0)\n",
    "        out = ndata_sum.matmul(self.W)\n",
    "        \n",
    "        return out"
   ]
  },
  {
   "cell_type": "code",
   "execution_count": 160,
   "id": "0de9c904",
   "metadata": {},
   "outputs": [
    {
     "data": {
      "text/plain": [
       "tensor(1200.5023, grad_fn=<DotBackward0>)"
      ]
     },
     "execution_count": 160,
     "metadata": {},
     "output_type": "execute_result"
    }
   ],
   "source": [
    "model = ANEELayer(44, 2, 2)\n",
    "model(graphs[0], graphs[0].ndata['feat'], graphs[0].edata['feat'])"
   ]
  },
  {
   "cell_type": "code",
   "execution_count": 31,
   "id": "e46b75df",
   "metadata": {},
   "outputs": [
    {
     "name": "stderr",
     "output_type": "stream",
     "text": [
      "100%|██████████████████████████████████████| 4482/4482 [00:30<00:00, 145.30it/s]\n"
     ]
    },
    {
     "name": "stdout",
     "output_type": "stream",
     "text": [
      "0.98378974\n"
     ]
    },
    {
     "name": "stderr",
     "output_type": "stream",
     "text": [
      "100%|██████████████████████████████████████| 4482/4482 [00:28<00:00, 156.80it/s]\n"
     ]
    },
    {
     "name": "stdout",
     "output_type": "stream",
     "text": [
      "0.27533457\n"
     ]
    },
    {
     "name": "stderr",
     "output_type": "stream",
     "text": [
      "100%|██████████████████████████████████████| 4482/4482 [00:28<00:00, 157.08it/s]\n"
     ]
    },
    {
     "name": "stdout",
     "output_type": "stream",
     "text": [
      "0.14721298\n"
     ]
    },
    {
     "name": "stderr",
     "output_type": "stream",
     "text": [
      "100%|██████████████████████████████████████| 4482/4482 [00:28<00:00, 157.82it/s]\n"
     ]
    },
    {
     "name": "stdout",
     "output_type": "stream",
     "text": [
      "0.13762957\n"
     ]
    },
    {
     "name": "stderr",
     "output_type": "stream",
     "text": [
      "100%|██████████████████████████████████████| 4482/4482 [00:29<00:00, 153.67it/s]\n"
     ]
    },
    {
     "name": "stdout",
     "output_type": "stream",
     "text": [
      "0.12682308\n"
     ]
    },
    {
     "name": "stderr",
     "output_type": "stream",
     "text": [
      "100%|██████████████████████████████████████| 4482/4482 [00:28<00:00, 156.39it/s]\n"
     ]
    },
    {
     "name": "stdout",
     "output_type": "stream",
     "text": [
      "0.11694984\n"
     ]
    },
    {
     "name": "stderr",
     "output_type": "stream",
     "text": [
      "100%|██████████████████████████████████████| 4482/4482 [00:28<00:00, 157.18it/s]\n"
     ]
    },
    {
     "name": "stdout",
     "output_type": "stream",
     "text": [
      "0.10841072\n"
     ]
    },
    {
     "name": "stderr",
     "output_type": "stream",
     "text": [
      "100%|██████████████████████████████████████| 4482/4482 [00:28<00:00, 156.28it/s]\n"
     ]
    },
    {
     "name": "stdout",
     "output_type": "stream",
     "text": [
      "0.10072584\n"
     ]
    },
    {
     "name": "stderr",
     "output_type": "stream",
     "text": [
      "100%|██████████████████████████████████████| 4482/4482 [00:29<00:00, 153.19it/s]\n"
     ]
    },
    {
     "name": "stdout",
     "output_type": "stream",
     "text": [
      "0.09329142\n"
     ]
    },
    {
     "name": "stderr",
     "output_type": "stream",
     "text": [
      "100%|██████████████████████████████████████| 4482/4482 [00:28<00:00, 155.82it/s]"
     ]
    },
    {
     "name": "stdout",
     "output_type": "stream",
     "text": [
      "0.08676987\n"
     ]
    },
    {
     "name": "stderr",
     "output_type": "stream",
     "text": [
      "\n"
     ]
    }
   ],
   "source": [
    "from tqdm import tqdm\n",
    "import numpy as np\n",
    "\n",
    "device='cuda'\n",
    "\n",
    "model = ANEELayer(44, 2, 2)\n",
    "model.to(device)\n",
    "loss_fn = nn.MSELoss()\n",
    "optim = torch.optim.Adam(model.parameters(), lr=1e-4)\n",
    "\n",
    "indices = np.random.permutation(range(len(graphs)))\n",
    "n_train = int(0.7 * len(graphs))\n",
    "\n",
    "graphs_gpu = [g.to(device) for g in graphs]\n",
    "\n",
    "for epoch in range(10):\n",
    "    errs = []\n",
    "    for i in tqdm(indices[:n_train]):\n",
    "        g = graphs_gpu[i]\n",
    "        label = labels[i].to(device)\n",
    "        optim.zero_grad()\n",
    "        out = model(g, g.ndata['feat'], g.edata['feat'])\n",
    "        err = torch.abs(out - label) / label\n",
    "        errs.append(err.cpu().detach().numpy())\n",
    "        loss = loss_fn(out, label)\n",
    "        loss.backward()\n",
    "        optim.step()\n",
    "    #     print(loss)\n",
    "    print(np.mean(errs))"
   ]
  },
  {
   "cell_type": "code",
   "execution_count": 75,
   "id": "eb551018",
   "metadata": {},
   "outputs": [
    {
     "name": "stderr",
     "output_type": "stream",
     "text": [
      "100%|██████████████████████████████████████| 1921/1921 [00:13<00:00, 145.06it/s]"
     ]
    },
    {
     "name": "stdout",
     "output_type": "stream",
     "text": [
      "0.080651365\n"
     ]
    },
    {
     "name": "stderr",
     "output_type": "stream",
     "text": [
      "\n"
     ]
    }
   ],
   "source": [
    "errs = []\n",
    "for i in tqdm(indices[n_train:]):\n",
    "    g = graphs_gpu[i]\n",
    "    label = labels[i].to(device)\n",
    "    optim.zero_grad()\n",
    "    out = model(g, g.ndata['feat'], g.edata['feat'])\n",
    "    err = torch.abs(out - label) / label\n",
    "    errs.append(err.cpu().detach().numpy())\n",
    "    loss = loss_fn(out, label)\n",
    "    loss.backward()\n",
    "    optim.step()\n",
    "#     print(loss)\n",
    "print(np.mean(errs))"
   ]
  },
  {
   "cell_type": "code",
   "execution_count": 29,
   "id": "3b9df1a8",
   "metadata": {},
   "outputs": [],
   "source": [
    "import torchvision"
   ]
  },
  {
   "cell_type": "code",
   "execution_count": 66,
   "id": "3a01faa5",
   "metadata": {},
   "outputs": [
    {
     "data": {
      "text/plain": [
       "ResNet(\n",
       "  (conv1): Conv2d(3, 64, kernel_size=(7, 7), stride=(2, 2), padding=(3, 3), bias=False)\n",
       "  (bn1): BatchNorm2d(64, eps=1e-05, momentum=0.1, affine=True, track_running_stats=True)\n",
       "  (relu): ReLU(inplace=True)\n",
       "  (maxpool): MaxPool2d(kernel_size=3, stride=2, padding=1, dilation=1, ceil_mode=False)\n",
       "  (layer1): Sequential(\n",
       "    (0): BasicBlock(\n",
       "      (conv1): Conv2d(64, 64, kernel_size=(3, 3), stride=(1, 1), padding=(1, 1), bias=False)\n",
       "      (bn1): BatchNorm2d(64, eps=1e-05, momentum=0.1, affine=True, track_running_stats=True)\n",
       "      (relu): ReLU(inplace=True)\n",
       "      (conv2): Conv2d(64, 64, kernel_size=(3, 3), stride=(1, 1), padding=(1, 1), bias=False)\n",
       "      (bn2): BatchNorm2d(64, eps=1e-05, momentum=0.1, affine=True, track_running_stats=True)\n",
       "    )\n",
       "    (1): BasicBlock(\n",
       "      (conv1): Conv2d(64, 64, kernel_size=(3, 3), stride=(1, 1), padding=(1, 1), bias=False)\n",
       "      (bn1): BatchNorm2d(64, eps=1e-05, momentum=0.1, affine=True, track_running_stats=True)\n",
       "      (relu): ReLU(inplace=True)\n",
       "      (conv2): Conv2d(64, 64, kernel_size=(3, 3), stride=(1, 1), padding=(1, 1), bias=False)\n",
       "      (bn2): BatchNorm2d(64, eps=1e-05, momentum=0.1, affine=True, track_running_stats=True)\n",
       "    )\n",
       "  )\n",
       "  (layer2): Sequential(\n",
       "    (0): BasicBlock(\n",
       "      (conv1): Conv2d(64, 128, kernel_size=(3, 3), stride=(2, 2), padding=(1, 1), bias=False)\n",
       "      (bn1): BatchNorm2d(128, eps=1e-05, momentum=0.1, affine=True, track_running_stats=True)\n",
       "      (relu): ReLU(inplace=True)\n",
       "      (conv2): Conv2d(128, 128, kernel_size=(3, 3), stride=(1, 1), padding=(1, 1), bias=False)\n",
       "      (bn2): BatchNorm2d(128, eps=1e-05, momentum=0.1, affine=True, track_running_stats=True)\n",
       "      (downsample): Sequential(\n",
       "        (0): Conv2d(64, 128, kernel_size=(1, 1), stride=(2, 2), bias=False)\n",
       "        (1): BatchNorm2d(128, eps=1e-05, momentum=0.1, affine=True, track_running_stats=True)\n",
       "      )\n",
       "    )\n",
       "    (1): BasicBlock(\n",
       "      (conv1): Conv2d(128, 128, kernel_size=(3, 3), stride=(1, 1), padding=(1, 1), bias=False)\n",
       "      (bn1): BatchNorm2d(128, eps=1e-05, momentum=0.1, affine=True, track_running_stats=True)\n",
       "      (relu): ReLU(inplace=True)\n",
       "      (conv2): Conv2d(128, 128, kernel_size=(3, 3), stride=(1, 1), padding=(1, 1), bias=False)\n",
       "      (bn2): BatchNorm2d(128, eps=1e-05, momentum=0.1, affine=True, track_running_stats=True)\n",
       "    )\n",
       "  )\n",
       "  (layer3): Sequential(\n",
       "    (0): BasicBlock(\n",
       "      (conv1): Conv2d(128, 256, kernel_size=(3, 3), stride=(2, 2), padding=(1, 1), bias=False)\n",
       "      (bn1): BatchNorm2d(256, eps=1e-05, momentum=0.1, affine=True, track_running_stats=True)\n",
       "      (relu): ReLU(inplace=True)\n",
       "      (conv2): Conv2d(256, 256, kernel_size=(3, 3), stride=(1, 1), padding=(1, 1), bias=False)\n",
       "      (bn2): BatchNorm2d(256, eps=1e-05, momentum=0.1, affine=True, track_running_stats=True)\n",
       "      (downsample): Sequential(\n",
       "        (0): Conv2d(128, 256, kernel_size=(1, 1), stride=(2, 2), bias=False)\n",
       "        (1): BatchNorm2d(256, eps=1e-05, momentum=0.1, affine=True, track_running_stats=True)\n",
       "      )\n",
       "    )\n",
       "    (1): BasicBlock(\n",
       "      (conv1): Conv2d(256, 256, kernel_size=(3, 3), stride=(1, 1), padding=(1, 1), bias=False)\n",
       "      (bn1): BatchNorm2d(256, eps=1e-05, momentum=0.1, affine=True, track_running_stats=True)\n",
       "      (relu): ReLU(inplace=True)\n",
       "      (conv2): Conv2d(256, 256, kernel_size=(3, 3), stride=(1, 1), padding=(1, 1), bias=False)\n",
       "      (bn2): BatchNorm2d(256, eps=1e-05, momentum=0.1, affine=True, track_running_stats=True)\n",
       "    )\n",
       "  )\n",
       "  (layer4): Sequential(\n",
       "    (0): BasicBlock(\n",
       "      (conv1): Conv2d(256, 512, kernel_size=(3, 3), stride=(2, 2), padding=(1, 1), bias=False)\n",
       "      (bn1): BatchNorm2d(512, eps=1e-05, momentum=0.1, affine=True, track_running_stats=True)\n",
       "      (relu): ReLU(inplace=True)\n",
       "      (conv2): Conv2d(512, 512, kernel_size=(3, 3), stride=(1, 1), padding=(1, 1), bias=False)\n",
       "      (bn2): BatchNorm2d(512, eps=1e-05, momentum=0.1, affine=True, track_running_stats=True)\n",
       "      (downsample): Sequential(\n",
       "        (0): Conv2d(256, 512, kernel_size=(1, 1), stride=(2, 2), bias=False)\n",
       "        (1): BatchNorm2d(512, eps=1e-05, momentum=0.1, affine=True, track_running_stats=True)\n",
       "      )\n",
       "    )\n",
       "    (1): BasicBlock(\n",
       "      (conv1): Conv2d(512, 512, kernel_size=(3, 3), stride=(1, 1), padding=(1, 1), bias=False)\n",
       "      (bn1): BatchNorm2d(512, eps=1e-05, momentum=0.1, affine=True, track_running_stats=True)\n",
       "      (relu): ReLU(inplace=True)\n",
       "      (conv2): Conv2d(512, 512, kernel_size=(3, 3), stride=(1, 1), padding=(1, 1), bias=False)\n",
       "      (bn2): BatchNorm2d(512, eps=1e-05, momentum=0.1, affine=True, track_running_stats=True)\n",
       "    )\n",
       "  )\n",
       "  (avgpool): AdaptiveAvgPool2d(output_size=(1, 1))\n",
       "  (fc): Linear(in_features=512, out_features=1000, bias=True)\n",
       ")"
      ]
     },
     "execution_count": 66,
     "metadata": {},
     "output_type": "execute_result"
    }
   ],
   "source": [
    "from trace import Graph\n",
    "example = torchvision.models.resnet18()\n",
    "example.to(device)"
   ]
  },
  {
   "cell_type": "code",
   "execution_count": 67,
   "id": "3528724c",
   "metadata": {},
   "outputs": [],
   "source": [
    "inputs = torch.rand((32, 3, 128, 128), device=device)\n",
    "out = example(inputs)\n",
    "raw_g = Graph(out)"
   ]
  },
  {
   "cell_type": "code",
   "execution_count": 68,
   "id": "2bbb28bb",
   "metadata": {},
   "outputs": [],
   "source": [
    "node_type, node_data, edge_list, edge_data = raw_g.encode()"
   ]
  },
  {
   "cell_type": "code",
   "execution_count": 69,
   "id": "db4cd3ce",
   "metadata": {},
   "outputs": [
    {
     "data": {
      "text/plain": [
       "torch.Size([20])"
      ]
     },
     "execution_count": 69,
     "metadata": {},
     "output_type": "execute_result"
    }
   ],
   "source": [
    "node_data[0].shape"
   ]
  },
  {
   "cell_type": "code",
   "execution_count": 70,
   "id": "08ec10d4",
   "metadata": {},
   "outputs": [
    {
     "data": {
      "text/plain": [
       "torch.Size([437, 44])"
      ]
     },
     "execution_count": 70,
     "metadata": {},
     "output_type": "execute_result"
    }
   ],
   "source": [
    "graphs[0].ndata['feat'].shape"
   ]
  },
  {
   "cell_type": "code",
   "execution_count": 71,
   "id": "7f7466b8",
   "metadata": {},
   "outputs": [
    {
     "data": {
      "text/plain": [
       "tensor([  0,   0,   1,   1,   2,   2,   3,   3,   3,   3,   4,   4,   5,   5,\n",
       "          6,   6,   7,   7,   8,   8,   9,   9,  10,  10,  10,  10,  11,  11,\n",
       "         12,  12,  13,  13,  14,  14,  15,  15,  16,  16,  17,  17,  17,  17,\n",
       "         18,  18,  19,  19,  20,  20,  21,  21,  22,  22,  23,  23,  24,  24,\n",
       "         25,  25,  26,  26,  26,  26,  27,  27,  28,  28,  29,  29,  30,  30,\n",
       "         31,  31,  32,  32,  33,  33,  33,  33,  34,  34,  35,  35,  36,  36,\n",
       "         37,  37,  38,  38,  39,  39,  40,  40,  41,  41,  42,  42,  42,  42,\n",
       "         43,  43,  44,  44,  45,  45,  46,  46,  47,  47,  48,  48,  49,  49,\n",
       "         49,  49,  50,  50,  51,  51,  52,  52,  53,  53,  54,  54,  55,  55,\n",
       "         56,  56,  57,  57,  58,  58,  58,  58,  59,  59,  60,  60,  61,  61,\n",
       "         62,  62,  63,  63,  64,  64,  65,  65,  66,  66,  69,  69,  70,  70,\n",
       "         71,  71,  72,  72,  72,  73,  73,  74,  74,  75,  75,  76,  76,  77,\n",
       "         77,  78,  78,  79,  79,  79,  80,  80,  81,  81,  82,  82,  83,  83,\n",
       "         84,  84,  85,  85,  86,  86,  86,  87,  87,  88,  88,  89,  89,  90,\n",
       "         90,  91,  91,  92,  92,  93,  93,  93,  94,  94,  95,  95,  96,  96,\n",
       "         97,  97,  98,  98,  99,  99, 100, 100, 100, 101, 101, 102, 102, 103,\n",
       "        103, 104, 104, 105, 105, 106, 106, 107, 107, 107, 108, 108, 109, 109,\n",
       "        110, 110, 111, 111, 112, 112, 113, 113, 114, 114, 114, 115, 115, 116,\n",
       "        116, 117, 117, 118, 118, 119, 119, 120, 120, 121, 121, 121, 122, 122,\n",
       "        123, 123, 124, 124, 125, 125, 126, 126, 127, 127, 128, 128, 129, 129,\n",
       "        130, 131, 131, 132, 132, 133, 133, 134, 134, 135, 135, 136, 136])"
      ]
     },
     "execution_count": 71,
     "metadata": {},
     "output_type": "execute_result"
    }
   ],
   "source": [
    "edge_list_tensor[:, 0]"
   ]
  },
  {
   "cell_type": "code",
   "execution_count": 72,
   "id": "ba999add",
   "metadata": {},
   "outputs": [],
   "source": [
    "edge_list_tensor = torch.LongTensor(edge_list)\n",
    "node_type_tensor = torch.nn.functional.one_hot(torch.tensor(node_type), 24)\n",
    "ndata = torch.stack(node_data)\n",
    "ndata = torch.concat([node_type_tensor, ndata], dim=1)\n",
    "edata = torch.tensor(edge_data)\n",
    "\n",
    "g = dgl.graph((edge_list_tensor[:, 0], edge_list_tensor[:, 1]))\n",
    "\n",
    "g.ndata['feat'] = ndata\n",
    "g.edata['feat'] = edata.float()"
   ]
  },
  {
   "cell_type": "code",
   "execution_count": 73,
   "id": "704a5398",
   "metadata": {},
   "outputs": [],
   "source": [
    "# normalize\n",
    "#max_ndata = []\n",
    "#min_ndata = []\n",
    "#max_edata = []\n",
    "#min_edata = []\n",
    "\n",
    "for i in range(len(max_ndata)):\n",
    "    if max_ndata[i] != min_ndata[i]:\n",
    "        g.ndata['feat'][:, i] = (g.ndata['feat'][:, i] - min_ndata[i]) / (max_ndata[i] - min_ndata[i])\n",
    "        \n",
    "for i in range(len(max_edata)):\n",
    "    if max_edata[i] != min_edata[i]:\n",
    "        g.edata['feat'][:, i] = (g.edata['feat'][:, i] - min_edata[i]) / (max_edata[i] - min_edata[i])"
   ]
  },
  {
   "cell_type": "code",
   "execution_count": 74,
   "id": "21f28bf7",
   "metadata": {},
   "outputs": [
    {
     "data": {
      "text/plain": [
       "tensor(-288.9028, device='cuda:0', grad_fn=<DotBackward0>)"
      ]
     },
     "execution_count": 74,
     "metadata": {},
     "output_type": "execute_result"
    }
   ],
   "source": [
    "g = g.to(device)\n",
    "model(g, g.ndata['feat'].cuda(), g.edata['feat'].cuda())"
   ]
  },
  {
   "cell_type": "code",
   "execution_count": 110,
   "id": "26125c7b",
   "metadata": {},
   "outputs": [
    {
     "data": {
      "text/plain": [
       "1010"
      ]
     },
     "execution_count": 110,
     "metadata": {},
     "output_type": "execute_result"
    }
   ],
   "source": [
    "graphs[0].num_edges()"
   ]
  },
  {
   "cell_type": "code",
   "execution_count": null,
   "id": "67f06f98",
   "metadata": {},
   "outputs": [],
   "source": []
  }
 ],
 "metadata": {
  "kernelspec": {
   "display_name": "Python 3.8.10 ('torch_env': venv)",
   "language": "python",
   "name": "python3"
  },
  "language_info": {
   "codemirror_mode": {
    "name": "ipython",
    "version": 3
   },
   "file_extension": ".py",
   "mimetype": "text/x-python",
   "name": "python",
   "nbconvert_exporter": "python",
   "pygments_lexer": "ipython3",
   "version": "3.8.10"
  },
  "vscode": {
   "interpreter": {
    "hash": "21b3263d2991743e4a43220dd74aeccbe181f5d910cbd8cafed6ccc636e1c9d8"
   }
  }
 },
 "nbformat": 4,
 "nbformat_minor": 5
}
