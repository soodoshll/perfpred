{
 "cells": [
  {
   "cell_type": "code",
   "execution_count": 1,
   "id": "49e43c8a",
   "metadata": {},
   "outputs": [
    {
     "name": "stderr",
     "output_type": "stream",
     "text": [
      "/home/su/perfpred/torch_env/lib/python3.8/site-packages/tqdm/auto.py:22: TqdmWarning: IProgress not found. Please update jupyter and ipywidgets. See https://ipywidgets.readthedocs.io/en/stable/user_install.html\n",
      "  from .autonotebook import tqdm as notebook_tqdm\n"
     ]
    }
   ],
   "source": [
    "import torch\n",
    "import pickle, time"
   ]
  },
  {
   "cell_type": "code",
   "execution_count": 3,
   "id": "519c43fd",
   "metadata": {},
   "outputs": [
    {
     "data": {
      "text/plain": [
       "'0.10'"
      ]
     },
     "execution_count": 3,
     "metadata": {},
     "output_type": "execute_result"
    }
   ],
   "source": [
    "import dgl\n",
    "dgl.__version__"
   ]
  },
  {
   "cell_type": "code",
   "execution_count": 4,
   "id": "c35354da",
   "metadata": {},
   "outputs": [
    {
     "name": "stdout",
     "output_type": "stream",
     "text": [
      "dataset loaded, cost 289.8015818595886 s\n"
     ]
    }
   ],
   "source": [
    "dataset_file = 'nas_graphs.data'\n",
    "\n",
    "def load_data_raw(filename):\n",
    "    with open(filename, 'rb') as f:\n",
    "        raw_data = pickle.load(f)\n",
    "    return raw_data\n",
    "\n",
    "t0 = time.time()\n",
    "raw_data = load_data_raw(dataset_file)\n",
    "dur = time.time() - t0\n",
    "\n",
    "print(f\"dataset loaded, cost {dur} s\")"
   ]
  },
  {
   "cell_type": "code",
   "execution_count": 5,
   "id": "7db033c2",
   "metadata": {},
   "outputs": [],
   "source": [
    "# construct graphs\n",
    "graphs = []\n",
    "labels = []\n",
    "\n",
    "# transform type node_type into onehot\n",
    "n_ntypes = 0\n",
    "for node_type, _, _, _, _ in raw_data:\n",
    "#     print(node_type)\n",
    "    max_node_type = max(node_type)\n",
    "    n_ntypes = max(n_ntypes, max_node_type)\n",
    "n_ntypes += 1\n",
    "\n",
    "for node_type, node_data, edge_list, edge_data, mem in raw_data:\n",
    "    edge_list_tensor = torch.LongTensor(edge_list)\n",
    "    node_type_tensor = torch.nn.functional.one_hot(torch.tensor(node_type), n_ntypes)\n",
    "    ndata = torch.stack(node_data)\n",
    "#     print(ndata.shape, node_type_tensor.shape)\n",
    "    ndata = torch.concat([node_type_tensor, ndata], dim=1)\n",
    "#     print(ndata.shape)\n",
    "    edata = torch.tensor(edge_data)\n",
    "    g = dgl.graph((edge_list_tensor[:, 0], edge_list_tensor[:, 1]))\n",
    "    g.ndata['feat'] = ndata\n",
    "    g.edata['feat'] = edata.float()\n",
    "    graphs.append(g)\n",
    "    labels.append(mem)\n",
    "    \n",
    "labels = torch.tensor(labels)"
   ]
  },
  {
   "cell_type": "code",
   "execution_count": 6,
   "id": "88c15616",
   "metadata": {},
   "outputs": [],
   "source": [
    "# backup\n",
    "with open(\"nas_graphs_dgl.data\", \"wb\") as f:\n",
    "    pickle.dump([graphs, labels], f)"
   ]
  },
  {
   "cell_type": "code",
   "execution_count": 12,
   "id": "da50329b",
   "metadata": {},
   "outputs": [],
   "source": [
    "with open(\"nas_graphs_dgl.data\", \"rb\") as f:\n",
    "    graphs, labels = pickle.load(f)\n"
   ]
  },
  {
   "cell_type": "code",
   "execution_count": 7,
   "id": "74bf0abf",
   "metadata": {},
   "outputs": [
    {
     "data": {
      "text/plain": [
       "(array([  12.,  161.,  643., 1534., 1150., 2359., 1852., 1020.,  295.,\n",
       "          36.]),\n",
       " array([ 590.,  698.,  806.,  914., 1022., 1130., 1238., 1346., 1454.,\n",
       "        1562., 1670.]),\n",
       " <BarContainer object of 10 artists>)"
      ]
     },
     "execution_count": 7,
     "metadata": {},
     "output_type": "execute_result"
    },
    {
     "data": {
      "image/png": "[encoded data removed]",
      "text/plain": [
       "<Figure size 640x480 with 1 Axes>"
      ]
     },
     "metadata": {},
     "output_type": "display_data"
    }
   ],
   "source": [
    "from matplotlib import pyplot as plt\n",
    "num_nodes = [g.num_nodes() for g in graphs]\n",
    "num_edges = [g.num_edges() for g in graphs]\n",
    "\n",
    "plt.hist(num_nodes)\n",
    "plt.hist(num_edges)"
   ]
  },
  {
   "cell_type": "code",
   "execution_count": 13,
   "id": "86570602",
   "metadata": {},
   "outputs": [],
   "source": [
    "# normalize\n",
    "num_ndata = graphs[0].ndata['feat'].shape[1]\n",
    "num_edata = graphs[0].edata['feat'].shape[1]\n",
    "\n",
    "max_ndata = []\n",
    "min_ndata = []\n",
    "max_edata = []\n",
    "min_edata = []\n",
    "\n",
    "for ndata_id in range(num_ndata):\n",
    "    max_v = graphs[0].ndata['feat'][0, ndata_id]\n",
    "    min_v = graphs[0].ndata['feat'][0, ndata_id]\n",
    "    for g in graphs:\n",
    "        max_v = max(max_v, torch.max(g.ndata['feat'][:, ndata_id]))\n",
    "        min_v = min(min_v, torch.min(g.ndata['feat'][:, ndata_id]))\n",
    "    if max_v != min_v:\n",
    "        for g in graphs:\n",
    "            g.ndata['feat'][:, ndata_id] = (g.ndata['feat'][:, ndata_id] - min_v)/(max_v - min_v)\n",
    "    max_ndata.append(max_v)\n",
    "    min_ndata.append(min_v)\n",
    "            \n",
    "for edata_id in range(num_edata):\n",
    "    max_v = graphs[0].edata['feat'][0, edata_id]\n",
    "    min_v = graphs[0].edata['feat'][0, edata_id]\n",
    "    for g in graphs:\n",
    "        max_v = max(max_v, torch.max(g.edata['feat'][:, edata_id]))\n",
    "        min_v = min(min_v, torch.min(g.edata['feat'][:, edata_id]))\n",
    "    if max_v != min_v:\n",
    "        for g in graphs:\n",
    "            g.edata['feat'][:, edata_id] = (g.edata['feat'][:, edata_id] - min_v)/(max_v - min_v)\n",
    "    max_edata.append(max_v)\n",
    "    min_edata.append(min_v)"
   ]
  },
  {
   "cell_type": "code",
   "execution_count": 3,
   "id": "278d1882",
   "metadata": {},
   "outputs": [],
   "source": [
    "from torch import nn\n",
    "from torch.nn import functional as F\n",
    "\n",
    "class ANEELayer(nn.Module):\n",
    "    def __init__(self, ndim, edim, nlayers):\n",
    "        super(ANEELayer, self).__init__()\n",
    "        self.ndim = ndim\n",
    "        self.edim = edim\n",
    "        self.nlayers = nlayers\n",
    "        \n",
    "        self.Wu = nn.Parameter(torch.randn((ndim, ndim)))\n",
    "        self.We = nn.Parameter(torch.randn((edim, edim)))\n",
    "        self.a = nn.Parameter(torch.randn(2 * ndim))\n",
    "        self.Wm = nn.Parameter(torch.randn(edim))\n",
    "        \n",
    "        self.W = nn.Parameter(torch.randn((ndim, )))\n",
    "    \n",
    "    def forward(self, g, ndata, edata):\n",
    "        for i in range(self.nlayers):\n",
    "            ndata = F.leaky_relu(ndata.matmul(self.Wu))\n",
    "            u, v = g.edges(form='uv')\n",
    "            uv_feat = torch.concat([ndata[u, :], ndata[v, :]], dim=-1)\n",
    "\n",
    "            new_edata = F.sigmoid(uv_feat.matmul(self.a).unsqueeze(1) * (edata.matmul(self.We)))\n",
    "            Wme = F.sigmoid(new_edata.matmul(self.Wm))\n",
    "            new_ndata = dgl.ops.u_mul_e_sum(g, ndata, Wme)\n",
    "            new_ndata = F.leaky_relu(new_ndata)\n",
    "            ndata = new_ndata\n",
    "            edata = new_edata\n",
    "        ndata_sum = ndata.sum(dim=0)\n",
    "        out = ndata_sum.matmul(self.W)\n",
    "        \n",
    "        return out"
   ]
  },
  {
   "cell_type": "code",
   "execution_count": 7,
   "id": "0de9c904",
   "metadata": {},
   "outputs": [
    {
     "name": "stderr",
     "output_type": "stream",
     "text": [
      "/home/su/perfpred/torch_env/lib/python3.8/site-packages/torch/nn/functional.py:1960: UserWarning: nn.functional.sigmoid is deprecated. Use torch.sigmoid instead.\n",
      "  warnings.warn(\"nn.functional.sigmoid is deprecated. Use torch.sigmoid instead.\")\n"
     ]
    },
    {
     "data": {
      "text/plain": [
       "tensor(-3627.4238, grad_fn=<DotBackward0>)"
      ]
     },
     "execution_count": 7,
     "metadata": {},
     "output_type": "execute_result"
    }
   ],
   "source": [
    "model = ANEELayer(44, 2, 2)\n",
    "model(graphs[0], graphs[0].ndata['feat'], graphs[0].edata['feat'])"
   ]
  },
  {
   "cell_type": "code",
   "execution_count": 2,
   "id": "e46b75df",
   "metadata": {},
   "outputs": [
    {
     "ename": "NameError",
     "evalue": "name 'torch' is not defined",
     "output_type": "error",
     "traceback": [
      "\u001b[0;31m---------------------------------------------------------------------------\u001b[0m",
      "\u001b[0;31mNameError\u001b[0m                                 Traceback (most recent call last)",
      "Cell \u001b[0;32mIn[2], line 6\u001b[0m\n\u001b[1;32m      2\u001b[0m \u001b[39mimport\u001b[39;00m \u001b[39mnumpy\u001b[39;00m \u001b[39mas\u001b[39;00m \u001b[39mnp\u001b[39;00m\n\u001b[1;32m      4\u001b[0m device\u001b[39m=\u001b[39m\u001b[39m'\u001b[39m\u001b[39mcuda\u001b[39m\u001b[39m'\u001b[39m\n\u001b[0;32m----> 6\u001b[0m model \u001b[39m=\u001b[39m ANEELayer(\u001b[39m44\u001b[39;49m, \u001b[39m2\u001b[39;49m, \u001b[39m2\u001b[39;49m)\n\u001b[1;32m      7\u001b[0m model\u001b[39m.\u001b[39mto(device)\n\u001b[1;32m      8\u001b[0m loss_fn \u001b[39m=\u001b[39m nn\u001b[39m.\u001b[39mMSELoss()\n",
      "Cell \u001b[0;32mIn[1], line 11\u001b[0m, in \u001b[0;36mANEELayer.__init__\u001b[0;34m(self, ndim, edim, nlayers)\u001b[0m\n\u001b[1;32m      8\u001b[0m \u001b[39mself\u001b[39m\u001b[39m.\u001b[39medim \u001b[39m=\u001b[39m edim\n\u001b[1;32m      9\u001b[0m \u001b[39mself\u001b[39m\u001b[39m.\u001b[39mnlayers \u001b[39m=\u001b[39m nlayers\n\u001b[0;32m---> 11\u001b[0m \u001b[39mself\u001b[39m\u001b[39m.\u001b[39mWu \u001b[39m=\u001b[39m nn\u001b[39m.\u001b[39mParameter(torch\u001b[39m.\u001b[39mrandn((ndim, ndim)))\n\u001b[1;32m     12\u001b[0m \u001b[39mself\u001b[39m\u001b[39m.\u001b[39mWe \u001b[39m=\u001b[39m nn\u001b[39m.\u001b[39mParameter(torch\u001b[39m.\u001b[39mrandn((edim, edim)))\n\u001b[1;32m     13\u001b[0m \u001b[39mself\u001b[39m\u001b[39m.\u001b[39ma \u001b[39m=\u001b[39m nn\u001b[39m.\u001b[39mParameter(torch\u001b[39m.\u001b[39mrandn(\u001b[39m2\u001b[39m \u001b[39m*\u001b[39m ndim))\n",
      "\u001b[0;31mNameError\u001b[0m: name 'torch' is not defined"
     ]
    }
   ],
   "source": [
    "from tqdm import tqdm\n",
    "import numpy as np\n",
    "\n",
    "device='cuda'\n",
    "\n",
    "model = ANEELayer(44, 2, 2)\n",
    "model.to(device)\n",
    "loss_fn = nn.MSELoss()\n",
    "optim = torch.optim.Adam(model.parameters(), lr=1e-4)\n",
    "\n",
    "\n",
    "graphs_gpu = [g.to(device) for g in graphs]\n"
   ]
  },
  {
   "cell_type": "markdown",
   "id": "c4d313ae",
   "metadata": {},
   "source": [
    "indices = np.random.permutation(range(len(graphs)))\n",
    "n_train = int(0.7 * len(graphs))\n",
    "train_indices = indices[:n_train]"
   ]
  },
  {
   "cell_type": "code",
   "execution_count": 9,
   "id": "7bcd27df",
   "metadata": {},
   "outputs": [],
   "source": [
    "np.savez(\"dataset_index.npz\", train_id=train_indices, test_id=indices[n_train:])"
   ]
  },
  {
   "cell_type": "code",
   "execution_count": 9,
   "id": "8388faa4",
   "metadata": {},
   "outputs": [],
   "source": [
    "indices = np.load(\"dataset_index.npz\")\n",
    "train_indices = indices['train_id']\n",
    "test_indices = indices['test_id']"
   ]
  },
  {
   "cell_type": "code",
   "execution_count": 11,
   "id": "f1847782",
   "metadata": {},
   "outputs": [
    {
     "data": {
      "text/plain": [
       "array([7451,  765, 4626, ...,  835, 3958, 8849])"
      ]
     },
     "execution_count": 11,
     "metadata": {},
     "output_type": "execute_result"
    }
   ],
   "source": [
    "indices[n_train:]"
   ]
  },
  {
   "cell_type": "code",
   "execution_count": 10,
   "id": "236362d9",
   "metadata": {},
   "outputs": [
    {
     "name": "stderr",
     "output_type": "stream",
     "text": [
      "100%|██████████| 6343/6343 [00:51<00:00, 122.76it/s]\n"
     ]
    },
    {
     "name": "stdout",
     "output_type": "stream",
     "text": [
      "0.63554746\n"
     ]
    },
    {
     "name": "stderr",
     "output_type": "stream",
     "text": [
      "100%|██████████| 6343/6343 [00:44<00:00, 143.91it/s]\n"
     ]
    },
    {
     "name": "stdout",
     "output_type": "stream",
     "text": [
      "0.29605097\n"
     ]
    },
    {
     "name": "stderr",
     "output_type": "stream",
     "text": [
      "100%|██████████| 6343/6343 [00:42<00:00, 147.63it/s]\n"
     ]
    },
    {
     "name": "stdout",
     "output_type": "stream",
     "text": [
      "0.16889216\n"
     ]
    },
    {
     "name": "stderr",
     "output_type": "stream",
     "text": [
      "100%|██████████| 6343/6343 [00:40<00:00, 156.19it/s]\n"
     ]
    },
    {
     "name": "stdout",
     "output_type": "stream",
     "text": [
      "0.12937088\n"
     ]
    },
    {
     "name": "stderr",
     "output_type": "stream",
     "text": [
      "100%|██████████| 6343/6343 [00:40<00:00, 155.05it/s]\n"
     ]
    },
    {
     "name": "stdout",
     "output_type": "stream",
     "text": [
      "0.109828\n"
     ]
    },
    {
     "name": "stderr",
     "output_type": "stream",
     "text": [
      "100%|██████████| 6343/6343 [00:40<00:00, 155.23it/s]\n"
     ]
    },
    {
     "name": "stdout",
     "output_type": "stream",
     "text": [
      "0.09721223\n"
     ]
    },
    {
     "name": "stderr",
     "output_type": "stream",
     "text": [
      "100%|██████████| 6343/6343 [00:40<00:00, 156.68it/s]\n"
     ]
    },
    {
     "name": "stdout",
     "output_type": "stream",
     "text": [
      "0.08966379\n"
     ]
    },
    {
     "name": "stderr",
     "output_type": "stream",
     "text": [
      "100%|██████████| 6343/6343 [00:40<00:00, 156.19it/s]\n"
     ]
    },
    {
     "name": "stdout",
     "output_type": "stream",
     "text": [
      "0.08414478\n"
     ]
    },
    {
     "name": "stderr",
     "output_type": "stream",
     "text": [
      "100%|██████████| 6343/6343 [00:40<00:00, 155.11it/s]\n"
     ]
    },
    {
     "name": "stdout",
     "output_type": "stream",
     "text": [
      "0.08038378\n"
     ]
    },
    {
     "name": "stderr",
     "output_type": "stream",
     "text": [
      "100%|██████████| 6343/6343 [00:41<00:00, 154.57it/s]\n"
     ]
    },
    {
     "name": "stdout",
     "output_type": "stream",
     "text": [
      "0.077186555\n"
     ]
    },
    {
     "name": "stderr",
     "output_type": "stream",
     "text": [
      "100%|██████████| 6343/6343 [00:40<00:00, 155.22it/s]\n"
     ]
    },
    {
     "name": "stdout",
     "output_type": "stream",
     "text": [
      "0.07605001\n"
     ]
    },
    {
     "name": "stderr",
     "output_type": "stream",
     "text": [
      "100%|██████████| 6343/6343 [00:40<00:00, 156.96it/s]\n"
     ]
    },
    {
     "name": "stdout",
     "output_type": "stream",
     "text": [
      "0.07439971\n"
     ]
    },
    {
     "name": "stderr",
     "output_type": "stream",
     "text": [
      "100%|██████████| 6343/6343 [00:40<00:00, 155.08it/s]\n"
     ]
    },
    {
     "name": "stdout",
     "output_type": "stream",
     "text": [
      "0.07341724\n"
     ]
    },
    {
     "name": "stderr",
     "output_type": "stream",
     "text": [
      "100%|██████████| 6343/6343 [00:40<00:00, 155.86it/s]\n"
     ]
    },
    {
     "name": "stdout",
     "output_type": "stream",
     "text": [
      "0.072712965\n"
     ]
    },
    {
     "name": "stderr",
     "output_type": "stream",
     "text": [
      "100%|██████████| 6343/6343 [00:41<00:00, 154.42it/s]\n"
     ]
    },
    {
     "name": "stdout",
     "output_type": "stream",
     "text": [
      "0.07182976\n"
     ]
    },
    {
     "name": "stderr",
     "output_type": "stream",
     "text": [
      "100%|██████████| 6343/6343 [00:40<00:00, 155.04it/s]\n"
     ]
    },
    {
     "name": "stdout",
     "output_type": "stream",
     "text": [
      "0.071007065\n"
     ]
    },
    {
     "name": "stderr",
     "output_type": "stream",
     "text": [
      "100%|██████████| 6343/6343 [00:40<00:00, 155.66it/s]\n"
     ]
    },
    {
     "name": "stdout",
     "output_type": "stream",
     "text": [
      "0.07083144\n"
     ]
    },
    {
     "name": "stderr",
     "output_type": "stream",
     "text": [
      "100%|██████████| 6343/6343 [00:40<00:00, 157.81it/s]\n"
     ]
    },
    {
     "name": "stdout",
     "output_type": "stream",
     "text": [
      "0.0701189\n"
     ]
    },
    {
     "name": "stderr",
     "output_type": "stream",
     "text": [
      "100%|██████████| 6343/6343 [00:40<00:00, 156.46it/s]\n"
     ]
    },
    {
     "name": "stdout",
     "output_type": "stream",
     "text": [
      "0.069280624\n"
     ]
    },
    {
     "name": "stderr",
     "output_type": "stream",
     "text": [
      "100%|██████████| 6343/6343 [00:40<00:00, 155.44it/s]\n"
     ]
    },
    {
     "name": "stdout",
     "output_type": "stream",
     "text": [
      "0.06868883\n"
     ]
    },
    {
     "name": "stderr",
     "output_type": "stream",
     "text": [
      "100%|██████████| 6343/6343 [00:40<00:00, 155.22it/s]\n"
     ]
    },
    {
     "name": "stdout",
     "output_type": "stream",
     "text": [
      "0.067668416\n"
     ]
    },
    {
     "name": "stderr",
     "output_type": "stream",
     "text": [
      "100%|██████████| 6343/6343 [00:41<00:00, 154.63it/s]\n"
     ]
    },
    {
     "name": "stdout",
     "output_type": "stream",
     "text": [
      "0.066855215\n"
     ]
    },
    {
     "name": "stderr",
     "output_type": "stream",
     "text": [
      "100%|██████████| 6343/6343 [00:40<00:00, 155.31it/s]\n"
     ]
    },
    {
     "name": "stdout",
     "output_type": "stream",
     "text": [
      "0.06597059\n"
     ]
    },
    {
     "name": "stderr",
     "output_type": "stream",
     "text": [
      "100%|██████████| 6343/6343 [00:40<00:00, 155.53it/s]\n"
     ]
    },
    {
     "name": "stdout",
     "output_type": "stream",
     "text": [
      "0.06515914\n"
     ]
    },
    {
     "name": "stderr",
     "output_type": "stream",
     "text": [
      "100%|██████████| 6343/6343 [00:40<00:00, 155.55it/s]\n"
     ]
    },
    {
     "name": "stdout",
     "output_type": "stream",
     "text": [
      "0.06386307\n"
     ]
    },
    {
     "name": "stderr",
     "output_type": "stream",
     "text": [
      "100%|██████████| 6343/6343 [00:40<00:00, 155.52it/s]\n"
     ]
    },
    {
     "name": "stdout",
     "output_type": "stream",
     "text": [
      "0.063043855\n"
     ]
    },
    {
     "name": "stderr",
     "output_type": "stream",
     "text": [
      "100%|██████████| 6343/6343 [00:40<00:00, 155.75it/s]\n"
     ]
    },
    {
     "name": "stdout",
     "output_type": "stream",
     "text": [
      "0.061753027\n"
     ]
    },
    {
     "name": "stderr",
     "output_type": "stream",
     "text": [
      "100%|██████████| 6343/6343 [00:40<00:00, 155.76it/s]\n"
     ]
    },
    {
     "name": "stdout",
     "output_type": "stream",
     "text": [
      "0.060642965\n"
     ]
    },
    {
     "name": "stderr",
     "output_type": "stream",
     "text": [
      "100%|██████████| 6343/6343 [00:40<00:00, 155.72it/s]\n"
     ]
    },
    {
     "name": "stdout",
     "output_type": "stream",
     "text": [
      "0.058885172\n"
     ]
    },
    {
     "name": "stderr",
     "output_type": "stream",
     "text": [
      "100%|██████████| 6343/6343 [00:40<00:00, 155.79it/s]\n"
     ]
    },
    {
     "name": "stdout",
     "output_type": "stream",
     "text": [
      "0.057793908\n"
     ]
    },
    {
     "name": "stderr",
     "output_type": "stream",
     "text": [
      "100%|██████████| 6343/6343 [00:41<00:00, 154.34it/s]\n"
     ]
    },
    {
     "name": "stdout",
     "output_type": "stream",
     "text": [
      "0.05680502\n"
     ]
    },
    {
     "name": "stderr",
     "output_type": "stream",
     "text": [
      "100%|██████████| 6343/6343 [00:41<00:00, 154.49it/s]\n"
     ]
    },
    {
     "name": "stdout",
     "output_type": "stream",
     "text": [
      "0.055272456\n"
     ]
    },
    {
     "name": "stderr",
     "output_type": "stream",
     "text": [
      "100%|██████████| 6343/6343 [00:40<00:00, 155.27it/s]\n"
     ]
    },
    {
     "name": "stdout",
     "output_type": "stream",
     "text": [
      "0.054543875\n"
     ]
    },
    {
     "name": "stderr",
     "output_type": "stream",
     "text": [
      "100%|██████████| 6343/6343 [00:40<00:00, 156.33it/s]\n"
     ]
    },
    {
     "name": "stdout",
     "output_type": "stream",
     "text": [
      "0.053266574\n"
     ]
    },
    {
     "name": "stderr",
     "output_type": "stream",
     "text": [
      "100%|██████████| 6343/6343 [00:41<00:00, 152.49it/s]\n"
     ]
    },
    {
     "name": "stdout",
     "output_type": "stream",
     "text": [
      "0.052218623\n"
     ]
    },
    {
     "name": "stderr",
     "output_type": "stream",
     "text": [
      "100%|██████████| 6343/6343 [00:40<00:00, 154.78it/s]\n"
     ]
    },
    {
     "name": "stdout",
     "output_type": "stream",
     "text": [
      "0.05105589\n"
     ]
    },
    {
     "name": "stderr",
     "output_type": "stream",
     "text": [
      "100%|██████████| 6343/6343 [00:40<00:00, 155.44it/s]\n"
     ]
    },
    {
     "name": "stdout",
     "output_type": "stream",
     "text": [
      "0.05036514\n"
     ]
    },
    {
     "name": "stderr",
     "output_type": "stream",
     "text": [
      "100%|██████████| 6343/6343 [00:40<00:00, 154.98it/s]\n"
     ]
    },
    {
     "name": "stdout",
     "output_type": "stream",
     "text": [
      "0.049543526\n"
     ]
    },
    {
     "name": "stderr",
     "output_type": "stream",
     "text": [
      "100%|██████████| 6343/6343 [00:41<00:00, 154.40it/s]\n"
     ]
    },
    {
     "name": "stdout",
     "output_type": "stream",
     "text": [
      "0.04891828\n"
     ]
    },
    {
     "name": "stderr",
     "output_type": "stream",
     "text": [
      "100%|██████████| 6343/6343 [00:41<00:00, 153.09it/s]\n"
     ]
    },
    {
     "name": "stdout",
     "output_type": "stream",
     "text": [
      "0.04810612\n"
     ]
    },
    {
     "name": "stderr",
     "output_type": "stream",
     "text": [
      "100%|██████████| 6343/6343 [00:40<00:00, 155.46it/s]\n"
     ]
    },
    {
     "name": "stdout",
     "output_type": "stream",
     "text": [
      "0.047634225\n"
     ]
    },
    {
     "name": "stderr",
     "output_type": "stream",
     "text": [
      "100%|██████████| 6343/6343 [00:40<00:00, 155.51it/s]\n"
     ]
    },
    {
     "name": "stdout",
     "output_type": "stream",
     "text": [
      "0.04695407\n"
     ]
    },
    {
     "name": "stderr",
     "output_type": "stream",
     "text": [
      "100%|██████████| 6343/6343 [00:41<00:00, 152.92it/s]\n"
     ]
    },
    {
     "name": "stdout",
     "output_type": "stream",
     "text": [
      "0.04652661\n"
     ]
    },
    {
     "name": "stderr",
     "output_type": "stream",
     "text": [
      "100%|██████████| 6343/6343 [00:41<00:00, 153.80it/s]\n"
     ]
    },
    {
     "name": "stdout",
     "output_type": "stream",
     "text": [
      "0.04574738\n"
     ]
    },
    {
     "name": "stderr",
     "output_type": "stream",
     "text": [
      "100%|██████████| 6343/6343 [00:41<00:00, 154.34it/s]\n"
     ]
    },
    {
     "name": "stdout",
     "output_type": "stream",
     "text": [
      "0.045446105\n"
     ]
    },
    {
     "name": "stderr",
     "output_type": "stream",
     "text": [
      "100%|██████████| 6343/6343 [00:41<00:00, 154.18it/s]\n"
     ]
    },
    {
     "name": "stdout",
     "output_type": "stream",
     "text": [
      "0.044803653\n"
     ]
    },
    {
     "name": "stderr",
     "output_type": "stream",
     "text": [
      "100%|██████████| 6343/6343 [00:40<00:00, 155.38it/s]\n"
     ]
    },
    {
     "name": "stdout",
     "output_type": "stream",
     "text": [
      "0.044351675\n"
     ]
    },
    {
     "name": "stderr",
     "output_type": "stream",
     "text": [
      "100%|██████████| 6343/6343 [00:40<00:00, 156.46it/s]\n"
     ]
    },
    {
     "name": "stdout",
     "output_type": "stream",
     "text": [
      "0.043910567\n"
     ]
    },
    {
     "name": "stderr",
     "output_type": "stream",
     "text": [
      "100%|██████████| 6343/6343 [00:41<00:00, 154.50it/s]\n"
     ]
    },
    {
     "name": "stdout",
     "output_type": "stream",
     "text": [
      "0.04357405\n"
     ]
    },
    {
     "name": "stderr",
     "output_type": "stream",
     "text": [
      "100%|██████████| 6343/6343 [00:40<00:00, 155.77it/s]\n"
     ]
    },
    {
     "name": "stdout",
     "output_type": "stream",
     "text": [
      "0.043089636\n"
     ]
    },
    {
     "name": "stderr",
     "output_type": "stream",
     "text": [
      "100%|██████████| 6343/6343 [00:40<00:00, 155.52it/s]\n"
     ]
    },
    {
     "name": "stdout",
     "output_type": "stream",
     "text": [
      "0.04271312\n"
     ]
    },
    {
     "name": "stderr",
     "output_type": "stream",
     "text": [
      "100%|██████████| 6343/6343 [00:41<00:00, 153.96it/s]\n"
     ]
    },
    {
     "name": "stdout",
     "output_type": "stream",
     "text": [
      "0.042015597\n"
     ]
    },
    {
     "name": "stderr",
     "output_type": "stream",
     "text": [
      "100%|██████████| 6343/6343 [00:41<00:00, 154.63it/s]\n"
     ]
    },
    {
     "name": "stdout",
     "output_type": "stream",
     "text": [
      "0.04163991\n"
     ]
    },
    {
     "name": "stderr",
     "output_type": "stream",
     "text": [
      "100%|██████████| 6343/6343 [00:40<00:00, 154.95it/s]\n"
     ]
    },
    {
     "name": "stdout",
     "output_type": "stream",
     "text": [
      "0.041404102\n"
     ]
    },
    {
     "name": "stderr",
     "output_type": "stream",
     "text": [
      "100%|██████████| 6343/6343 [00:40<00:00, 155.62it/s]\n"
     ]
    },
    {
     "name": "stdout",
     "output_type": "stream",
     "text": [
      "0.040797196\n"
     ]
    },
    {
     "name": "stderr",
     "output_type": "stream",
     "text": [
      "100%|██████████| 6343/6343 [00:40<00:00, 156.61it/s]\n"
     ]
    },
    {
     "name": "stdout",
     "output_type": "stream",
     "text": [
      "0.040356338\n"
     ]
    },
    {
     "name": "stderr",
     "output_type": "stream",
     "text": [
      "100%|██████████| 6343/6343 [00:40<00:00, 156.99it/s]\n"
     ]
    },
    {
     "name": "stdout",
     "output_type": "stream",
     "text": [
      "0.04025537\n"
     ]
    },
    {
     "name": "stderr",
     "output_type": "stream",
     "text": [
      "100%|██████████| 6343/6343 [00:40<00:00, 157.25it/s]\n"
     ]
    },
    {
     "name": "stdout",
     "output_type": "stream",
     "text": [
      "0.03976658\n"
     ]
    },
    {
     "name": "stderr",
     "output_type": "stream",
     "text": [
      "100%|██████████| 6343/6343 [00:40<00:00, 155.81it/s]\n"
     ]
    },
    {
     "name": "stdout",
     "output_type": "stream",
     "text": [
      "0.039364953\n"
     ]
    },
    {
     "name": "stderr",
     "output_type": "stream",
     "text": [
      "100%|██████████| 6343/6343 [00:40<00:00, 155.06it/s]\n"
     ]
    },
    {
     "name": "stdout",
     "output_type": "stream",
     "text": [
      "0.03916225\n"
     ]
    },
    {
     "name": "stderr",
     "output_type": "stream",
     "text": [
      "100%|██████████| 6343/6343 [00:41<00:00, 154.59it/s]\n"
     ]
    },
    {
     "name": "stdout",
     "output_type": "stream",
     "text": [
      "0.038693253\n"
     ]
    },
    {
     "name": "stderr",
     "output_type": "stream",
     "text": [
      "100%|██████████| 6343/6343 [00:41<00:00, 154.03it/s]\n"
     ]
    },
    {
     "name": "stdout",
     "output_type": "stream",
     "text": [
      "0.038546246\n"
     ]
    },
    {
     "name": "stderr",
     "output_type": "stream",
     "text": [
      "100%|██████████| 6343/6343 [00:40<00:00, 154.71it/s]\n"
     ]
    },
    {
     "name": "stdout",
     "output_type": "stream",
     "text": [
      "0.038077056\n"
     ]
    },
    {
     "name": "stderr",
     "output_type": "stream",
     "text": [
      "100%|██████████| 6343/6343 [00:41<00:00, 153.95it/s]\n"
     ]
    },
    {
     "name": "stdout",
     "output_type": "stream",
     "text": [
      "0.037667006\n"
     ]
    },
    {
     "name": "stderr",
     "output_type": "stream",
     "text": [
      "100%|██████████| 6343/6343 [00:40<00:00, 154.81it/s]\n"
     ]
    },
    {
     "name": "stdout",
     "output_type": "stream",
     "text": [
      "0.037313964\n"
     ]
    },
    {
     "name": "stderr",
     "output_type": "stream",
     "text": [
      "100%|██████████| 6343/6343 [00:40<00:00, 155.06it/s]\n"
     ]
    },
    {
     "name": "stdout",
     "output_type": "stream",
     "text": [
      "0.036997903\n"
     ]
    },
    {
     "name": "stderr",
     "output_type": "stream",
     "text": [
      "100%|██████████| 6343/6343 [00:40<00:00, 156.65it/s]\n"
     ]
    },
    {
     "name": "stdout",
     "output_type": "stream",
     "text": [
      "0.036949642\n"
     ]
    },
    {
     "name": "stderr",
     "output_type": "stream",
     "text": [
      "100%|██████████| 6343/6343 [00:40<00:00, 156.06it/s]\n"
     ]
    },
    {
     "name": "stdout",
     "output_type": "stream",
     "text": [
      "0.03657948\n"
     ]
    },
    {
     "name": "stderr",
     "output_type": "stream",
     "text": [
      "100%|██████████| 6343/6343 [00:40<00:00, 155.18it/s]\n"
     ]
    },
    {
     "name": "stdout",
     "output_type": "stream",
     "text": [
      "0.036255334\n"
     ]
    },
    {
     "name": "stderr",
     "output_type": "stream",
     "text": [
      "100%|██████████| 6343/6343 [00:40<00:00, 155.39it/s]\n"
     ]
    },
    {
     "name": "stdout",
     "output_type": "stream",
     "text": [
      "0.036083374\n"
     ]
    },
    {
     "name": "stderr",
     "output_type": "stream",
     "text": [
      "100%|██████████| 6343/6343 [00:40<00:00, 155.19it/s]\n"
     ]
    },
    {
     "name": "stdout",
     "output_type": "stream",
     "text": [
      "0.03591444\n"
     ]
    },
    {
     "name": "stderr",
     "output_type": "stream",
     "text": [
      "100%|██████████| 6343/6343 [00:41<00:00, 154.63it/s]\n"
     ]
    },
    {
     "name": "stdout",
     "output_type": "stream",
     "text": [
      "0.035599865\n"
     ]
    },
    {
     "name": "stderr",
     "output_type": "stream",
     "text": [
      "100%|██████████| 6343/6343 [00:40<00:00, 155.60it/s]\n"
     ]
    },
    {
     "name": "stdout",
     "output_type": "stream",
     "text": [
      "0.03521371\n"
     ]
    },
    {
     "name": "stderr",
     "output_type": "stream",
     "text": [
      "100%|██████████| 6343/6343 [00:40<00:00, 155.10it/s]\n"
     ]
    },
    {
     "name": "stdout",
     "output_type": "stream",
     "text": [
      "0.035236523\n"
     ]
    },
    {
     "name": "stderr",
     "output_type": "stream",
     "text": [
      "100%|██████████| 6343/6343 [00:41<00:00, 154.55it/s]\n"
     ]
    },
    {
     "name": "stdout",
     "output_type": "stream",
     "text": [
      "0.03468699\n"
     ]
    },
    {
     "name": "stderr",
     "output_type": "stream",
     "text": [
      "100%|██████████| 6343/6343 [00:40<00:00, 155.24it/s]\n"
     ]
    },
    {
     "name": "stdout",
     "output_type": "stream",
     "text": [
      "0.034378998\n"
     ]
    },
    {
     "name": "stderr",
     "output_type": "stream",
     "text": [
      "100%|██████████| 6343/6343 [00:40<00:00, 155.49it/s]\n"
     ]
    },
    {
     "name": "stdout",
     "output_type": "stream",
     "text": [
      "0.034028184\n"
     ]
    },
    {
     "name": "stderr",
     "output_type": "stream",
     "text": [
      "100%|██████████| 6343/6343 [00:40<00:00, 156.52it/s]\n"
     ]
    },
    {
     "name": "stdout",
     "output_type": "stream",
     "text": [
      "0.03364528\n"
     ]
    },
    {
     "name": "stderr",
     "output_type": "stream",
     "text": [
      "100%|██████████| 6343/6343 [00:40<00:00, 155.79it/s]\n"
     ]
    },
    {
     "name": "stdout",
     "output_type": "stream",
     "text": [
      "0.033428185\n"
     ]
    },
    {
     "name": "stderr",
     "output_type": "stream",
     "text": [
      "100%|██████████| 6343/6343 [00:41<00:00, 153.75it/s]"
     ]
    },
    {
     "name": "stdout",
     "output_type": "stream",
     "text": [
      "0.033243112\n"
     ]
    },
    {
     "name": "stderr",
     "output_type": "stream",
     "text": [
      "\n"
     ]
    }
   ],
   "source": [
    "for epoch in range(80):\n",
    "    errs = []\n",
    "    idx = np.random.permutation(range(len(train_indices))) \n",
    "    for i in tqdm(idx):\n",
    "        g = graphs_gpu[train_indices[i]]\n",
    "        label = labels[train_indices[i]].to(device)\n",
    "        optim.zero_grad()\n",
    "        out = model(g, g.ndata['feat'], g.edata['feat'])\n",
    "        err = torch.abs(out - label) / label\n",
    "        errs.append(err.cpu().detach().numpy())\n",
    "        loss = loss_fn(out, label)\n",
    "        loss.backward()\n",
    "        optim.step()\n",
    "    #     print(loss)\n",
    "    print(np.mean(errs))"
   ]
  },
  {
   "cell_type": "code",
   "execution_count": 15,
   "id": "eb551018",
   "metadata": {},
   "outputs": [
    {
     "name": "stderr",
     "output_type": "stream",
     "text": [
      "100%|██████████| 2719/2719 [00:03<00:00, 694.53it/s]"
     ]
    },
    {
     "name": "stdout",
     "output_type": "stream",
     "text": [
      "0.03256110330094828\n"
     ]
    },
    {
     "name": "stderr",
     "output_type": "stream",
     "text": [
      "\n"
     ]
    }
   ],
   "source": [
    "errs = []\n",
    "for i in tqdm(test_indices):\n",
    "    g = graphs_gpu[i]\n",
    "    label = labels[i].to(device)\n",
    "    with torch.no_grad():\n",
    "        out = model(g, g.ndata['feat'], g.edata['feat'])\n",
    "    err = torch.abs(out - label) / (label)\n",
    "    errs.append(err.cpu().detach().item())\n",
    "print(np.mean(errs))"
   ]
  },
  {
   "cell_type": "code",
   "execution_count": 14,
   "id": "066c56ca",
   "metadata": {},
   "outputs": [],
   "source": [
    "torch.save((model, max_ndata, min_ndata, max_edata, min_edata), \"gnn_model.th\")"
   ]
  },
  {
   "cell_type": "code",
   "execution_count": 4,
   "id": "3a01faa5",
   "metadata": {},
   "outputs": [],
   "source": [
    "from trace import Graph\n",
    "import torch, dgl\n",
    "import torchvision\n",
    "import gc\n",
    "device = 'cuda'"
   ]
  },
  {
   "cell_type": "code",
   "execution_count": 5,
   "id": "3b9df1a8",
   "metadata": {},
   "outputs": [],
   "source": [
    "model, max_ndata, min_ndata, max_edata, min_edata = torch.load(\"gnn_model.th\")"
   ]
  },
  {
   "cell_type": "code",
   "execution_count": 6,
   "id": "3528724c",
   "metadata": {},
   "outputs": [],
   "source": [
    "def test(example, batch_size):\n",
    "    example.to(device)\n",
    "    inputs = torch.rand((batch_size, 3, 224, 224), device=device)\n",
    "    out = example(inputs)\n",
    "    raw_g = Graph(out)\n",
    "    node_type, node_data, edge_list, edge_data = raw_g.encode()\n",
    "    edge_list_tensor = torch.LongTensor(edge_list)\n",
    "    node_type_tensor = torch.nn.functional.one_hot(torch.tensor(node_type), 24)\n",
    "    ndata = torch.stack(node_data)\n",
    "    ndata = torch.concat([node_type_tensor, ndata], dim=1)\n",
    "    edata = torch.tensor(edge_data)\n",
    "\n",
    "    g = dgl.graph((edge_list_tensor[:, 0], edge_list_tensor[:, 1]))\n",
    "\n",
    "    g.ndata['feat'] = ndata\n",
    "    g.edata['feat'] = edata.float()\n",
    "\n",
    "    for i in range(len(max_ndata)):\n",
    "        if max_ndata[i] != min_ndata[i]:\n",
    "            g.ndata['feat'][:, i] = (g.ndata['feat'][:, i] - min_ndata[i]) / (max_ndata[i] - min_ndata[i])\n",
    "            \n",
    "    for i in range(len(max_edata)):\n",
    "        if max_edata[i] != min_edata[i]:\n",
    "            g.edata['feat'][:, i] = (g.edata['feat'][:, i] - min_edata[i]) / (max_edata[i] - min_edata[i])\n",
    "\n",
    "    g = g.to(device)\n",
    "    with torch.no_grad():\n",
    "        ret = model(g, g.ndata['feat'].cuda(), g.edata['feat'].cuda())\n",
    "    return ret.cpu().numpy()"
   ]
  },
  {
   "cell_type": "code",
   "execution_count": 9,
   "id": "ba999add",
   "metadata": {},
   "outputs": [
    {
     "name": "stderr",
     "output_type": "stream",
     "text": [
      "/home/su/perfpred/dnnperf/trace.py:566: UserWarning: To copy construct from a tensor, it is recommended to use sourceTensor.clone().detach() or sourceTensor.clone().detach().requires_grad_(True), rather than torch.tensor(sourceTensor).\n",
      "  h_feat = torch.tensor(node.hyperparameter_info())\n",
      "/home/su/perfpred/torch_env/lib/python3.8/site-packages/torch/nn/functional.py:1960: UserWarning: nn.functional.sigmoid is deprecated. Use torch.sigmoid instead.\n",
      "  warnings.warn(\"nn.functional.sigmoid is deprecated. Use torch.sigmoid instead.\")\n"
     ]
    },
    {
     "name": "stdout",
     "output_type": "stream",
     "text": [
      "#node: 137 #edge: 293\n",
      "resnet50 8 1664.4763\n",
      "#node: 137 #edge: 293\n",
      "resnet50 16 1853.0332\n",
      "#node: 137 #edge: 293\n",
      "resnet50 32 2214.9097\n"
     ]
    }
   ],
   "source": [
    "for bs in [8, 16, 32]:\n",
    "    gc.collect()\n",
    "    print('resnet18', bs, test(torchvision.models.resnet18(), bs))"
   ]
  },
  {
   "cell_type": "code",
   "execution_count": 73,
   "id": "704a5398",
   "metadata": {},
   "outputs": [],
   "source": [
    "# normalize\n",
    "#max_ndata = []\n",
    "#min_ndata = []\n",
    "#max_edata = []\n",
    "#min_edata = []\n",
    "\n"
   ]
  },
  {
   "cell_type": "code",
   "execution_count": 74,
   "id": "21f28bf7",
   "metadata": {},
   "outputs": [
    {
     "data": {
      "text/plain": [
       "tensor(-288.9028, device='cuda:0', grad_fn=<DotBackward0>)"
      ]
     },
     "execution_count": 74,
     "metadata": {},
     "output_type": "execute_result"
    }
   ],
   "source": []
  },
  {
   "cell_type": "code",
   "execution_count": 110,
   "id": "26125c7b",
   "metadata": {},
   "outputs": [
    {
     "data": {
      "text/plain": [
       "1010"
      ]
     },
     "execution_count": 110,
     "metadata": {},
     "output_type": "execute_result"
    }
   ],
   "source": [
    "graphs[0].num_edges()"
   ]
  },
  {
   "cell_type": "code",
   "execution_count": null,
   "id": "67f06f98",
   "metadata": {},
   "outputs": [],
   "source": []
  }
 ],
 "metadata": {
  "kernelspec": {
   "display_name": "Python 3.8.10 ('torch_env': venv)",
   "language": "python",
   "name": "python3"
  },
  "language_info": {
   "codemirror_mode": {
    "name": "ipython",
    "version": 3
   },
   "file_extension": ".py",
   "mimetype": "text/x-python",
   "name": "python",
   "nbconvert_exporter": "python",
   "pygments_lexer": "ipython3",
   "version": "3.8.10"
  },
  "vscode": {
   "interpreter": {
    "hash": "1774c918756400e8041bc413a0247d00b9a16051c6d82f8b24dbca5df37493ff"
   }
  }
 },
 "nbformat": 4,
 "nbformat_minor": 5
}
